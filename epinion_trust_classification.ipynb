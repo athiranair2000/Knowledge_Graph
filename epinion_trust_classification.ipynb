{
  "cells": [
    {
      "cell_type": "markdown",
      "metadata": {
        "id": "o6qmekNuHljs"
      },
      "source": [
        "# Trust Prediction Using Machine Learning Techniques"
      ]
    },
    {
      "cell_type": "markdown",
      "metadata": {
        "id": "0Ioas-tWkY7o"
      },
      "source": [
        "## 1. Load Data"
      ]
    },
    {
      "cell_type": "code",
      "execution_count": null,
      "metadata": {
        "id": "Jitc2gKWiqwY",
        "colab": {
          "base_uri": "https://localhost:8080/",
          "height": 363
        },
        "outputId": "50057dc3-7ec7-484f-dd8d-2d849445c4a7"
      },
      "outputs": [
        {
          "output_type": "execute_result",
          "data": {
            "text/plain": [
              "   FromNodeId  ToNodeId\n",
              "0           0         4\n",
              "1           0         5\n",
              "2           0         7\n",
              "3           0         8\n",
              "4           0         9\n",
              "5           0        10\n",
              "6           0        11\n",
              "7           0        12\n",
              "8           0        13\n",
              "9           0        14"
            ],
            "text/html": [
              "\n",
              "  <div id=\"df-29c5e7e0-2e1e-4f33-b551-4ccae411535a\">\n",
              "    <div class=\"colab-df-container\">\n",
              "      <div>\n",
              "<style scoped>\n",
              "    .dataframe tbody tr th:only-of-type {\n",
              "        vertical-align: middle;\n",
              "    }\n",
              "\n",
              "    .dataframe tbody tr th {\n",
              "        vertical-align: top;\n",
              "    }\n",
              "\n",
              "    .dataframe thead th {\n",
              "        text-align: right;\n",
              "    }\n",
              "</style>\n",
              "<table border=\"1\" class=\"dataframe\">\n",
              "  <thead>\n",
              "    <tr style=\"text-align: right;\">\n",
              "      <th></th>\n",
              "      <th>FromNodeId</th>\n",
              "      <th>ToNodeId</th>\n",
              "    </tr>\n",
              "  </thead>\n",
              "  <tbody>\n",
              "    <tr>\n",
              "      <th>0</th>\n",
              "      <td>0</td>\n",
              "      <td>4</td>\n",
              "    </tr>\n",
              "    <tr>\n",
              "      <th>1</th>\n",
              "      <td>0</td>\n",
              "      <td>5</td>\n",
              "    </tr>\n",
              "    <tr>\n",
              "      <th>2</th>\n",
              "      <td>0</td>\n",
              "      <td>7</td>\n",
              "    </tr>\n",
              "    <tr>\n",
              "      <th>3</th>\n",
              "      <td>0</td>\n",
              "      <td>8</td>\n",
              "    </tr>\n",
              "    <tr>\n",
              "      <th>4</th>\n",
              "      <td>0</td>\n",
              "      <td>9</td>\n",
              "    </tr>\n",
              "    <tr>\n",
              "      <th>5</th>\n",
              "      <td>0</td>\n",
              "      <td>10</td>\n",
              "    </tr>\n",
              "    <tr>\n",
              "      <th>6</th>\n",
              "      <td>0</td>\n",
              "      <td>11</td>\n",
              "    </tr>\n",
              "    <tr>\n",
              "      <th>7</th>\n",
              "      <td>0</td>\n",
              "      <td>12</td>\n",
              "    </tr>\n",
              "    <tr>\n",
              "      <th>8</th>\n",
              "      <td>0</td>\n",
              "      <td>13</td>\n",
              "    </tr>\n",
              "    <tr>\n",
              "      <th>9</th>\n",
              "      <td>0</td>\n",
              "      <td>14</td>\n",
              "    </tr>\n",
              "  </tbody>\n",
              "</table>\n",
              "</div>\n",
              "      <button class=\"colab-df-convert\" onclick=\"convertToInteractive('df-29c5e7e0-2e1e-4f33-b551-4ccae411535a')\"\n",
              "              title=\"Convert this dataframe to an interactive table.\"\n",
              "              style=\"display:none;\">\n",
              "        \n",
              "  <svg xmlns=\"http://www.w3.org/2000/svg\" height=\"24px\"viewBox=\"0 0 24 24\"\n",
              "       width=\"24px\">\n",
              "    <path d=\"M0 0h24v24H0V0z\" fill=\"none\"/>\n",
              "    <path d=\"M18.56 5.44l.94 2.06.94-2.06 2.06-.94-2.06-.94-.94-2.06-.94 2.06-2.06.94zm-11 1L8.5 8.5l.94-2.06 2.06-.94-2.06-.94L8.5 2.5l-.94 2.06-2.06.94zm10 10l.94 2.06.94-2.06 2.06-.94-2.06-.94-.94-2.06-.94 2.06-2.06.94z\"/><path d=\"M17.41 7.96l-1.37-1.37c-.4-.4-.92-.59-1.43-.59-.52 0-1.04.2-1.43.59L10.3 9.45l-7.72 7.72c-.78.78-.78 2.05 0 2.83L4 21.41c.39.39.9.59 1.41.59.51 0 1.02-.2 1.41-.59l7.78-7.78 2.81-2.81c.8-.78.8-2.07 0-2.86zM5.41 20L4 18.59l7.72-7.72 1.47 1.35L5.41 20z\"/>\n",
              "  </svg>\n",
              "      </button>\n",
              "      \n",
              "  <style>\n",
              "    .colab-df-container {\n",
              "      display:flex;\n",
              "      flex-wrap:wrap;\n",
              "      gap: 12px;\n",
              "    }\n",
              "\n",
              "    .colab-df-convert {\n",
              "      background-color: #E8F0FE;\n",
              "      border: none;\n",
              "      border-radius: 50%;\n",
              "      cursor: pointer;\n",
              "      display: none;\n",
              "      fill: #1967D2;\n",
              "      height: 32px;\n",
              "      padding: 0 0 0 0;\n",
              "      width: 32px;\n",
              "    }\n",
              "\n",
              "    .colab-df-convert:hover {\n",
              "      background-color: #E2EBFA;\n",
              "      box-shadow: 0px 1px 2px rgba(60, 64, 67, 0.3), 0px 1px 3px 1px rgba(60, 64, 67, 0.15);\n",
              "      fill: #174EA6;\n",
              "    }\n",
              "\n",
              "    [theme=dark] .colab-df-convert {\n",
              "      background-color: #3B4455;\n",
              "      fill: #D2E3FC;\n",
              "    }\n",
              "\n",
              "    [theme=dark] .colab-df-convert:hover {\n",
              "      background-color: #434B5C;\n",
              "      box-shadow: 0px 1px 3px 1px rgba(0, 0, 0, 0.15);\n",
              "      filter: drop-shadow(0px 1px 2px rgba(0, 0, 0, 0.3));\n",
              "      fill: #FFFFFF;\n",
              "    }\n",
              "  </style>\n",
              "\n",
              "      <script>\n",
              "        const buttonEl =\n",
              "          document.querySelector('#df-29c5e7e0-2e1e-4f33-b551-4ccae411535a button.colab-df-convert');\n",
              "        buttonEl.style.display =\n",
              "          google.colab.kernel.accessAllowed ? 'block' : 'none';\n",
              "\n",
              "        async function convertToInteractive(key) {\n",
              "          const element = document.querySelector('#df-29c5e7e0-2e1e-4f33-b551-4ccae411535a');\n",
              "          const dataTable =\n",
              "            await google.colab.kernel.invokeFunction('convertToInteractive',\n",
              "                                                     [key], {});\n",
              "          if (!dataTable) return;\n",
              "\n",
              "          const docLinkHtml = 'Like what you see? Visit the ' +\n",
              "            '<a target=\"_blank\" href=https://colab.research.google.com/notebooks/data_table.ipynb>data table notebook</a>'\n",
              "            + ' to learn more about interactive tables.';\n",
              "          element.innerHTML = '';\n",
              "          dataTable['output_type'] = 'display_data';\n",
              "          await google.colab.output.renderOutput(dataTable, element);\n",
              "          const docLink = document.createElement('div');\n",
              "          docLink.innerHTML = docLinkHtml;\n",
              "          element.appendChild(docLink);\n",
              "        }\n",
              "      </script>\n",
              "    </div>\n",
              "  </div>\n",
              "  "
            ]
          },
          "metadata": {},
          "execution_count": 1
        }
      ],
      "source": [
        "import csv\n",
        "import pandas as pd\n",
        "\n",
        "df=pd.read_csv('/content/epinion.csv')\n",
        "\n",
        "df.head(10)\n"
      ]
    },
    {
      "cell_type": "markdown",
      "metadata": {
        "id": "ZPxYqK1Dkbt9"
      },
      "source": [
        "Checking the data for any missing rows/ duplicates\n"
      ]
    },
    {
      "cell_type": "code",
      "execution_count": null,
      "metadata": {
        "colab": {
          "base_uri": "https://localhost:8080/"
        },
        "id": "1rc9F0eckXyO",
        "outputId": "720b504d-bd58-42b2-bffe-9dc3362f9516"
      },
      "outputs": [
        {
          "output_type": "execute_result",
          "data": {
            "text/plain": [
              "0"
            ]
          },
          "metadata": {},
          "execution_count": 4
        }
      ],
      "source": [
        "sum(df.isna().any(1))\n"
      ]
    },
    {
      "cell_type": "code",
      "execution_count": null,
      "metadata": {
        "colab": {
          "base_uri": "https://localhost:8080/"
        },
        "id": "lOFw2YkgkkBm",
        "outputId": "998dea35-6873-4039-8bcd-fd099a5c0962"
      },
      "outputs": [
        {
          "output_type": "execute_result",
          "data": {
            "text/plain": [
              "0"
            ]
          },
          "metadata": {},
          "execution_count": 5
        }
      ],
      "source": [
        "sum(df.duplicated())\n"
      ]
    },
    {
      "cell_type": "code",
      "execution_count": null,
      "metadata": {
        "colab": {
          "base_uri": "https://localhost:8080/"
        },
        "id": "CdggtvHplS8L",
        "outputId": "dedae2da-64ea-4a8d-db24-881b8301646b"
      },
      "outputs": [
        {
          "output_type": "stream",
          "name": "stdout",
          "text": [
            "DiGraph with 75879 nodes and 508836 edges\n"
          ]
        }
      ],
      "source": [
        "import networkx as nx\n",
        "df.to_csv('/content/epinion.csv',header=False,index=False)\n",
        "#storing the list of edges in a varible \n",
        "g=nx.read_edgelist('/content/epinion.csv',delimiter=',',create_using=nx.DiGraph(),nodetype=int)\n",
        "#printing the information of graph\n",
        "print(nx.info(g))"
      ]
    },
    {
      "cell_type": "markdown",
      "metadata": {
        "id": "5cppO3F-l2i8"
      },
      "source": [
        "## 2. Data Visualisation"
      ]
    },
    {
      "cell_type": "code",
      "execution_count": null,
      "metadata": {
        "id": "80quoLEtmASw"
      },
      "outputs": [],
      "source": [
        "import matplotlib.pyplot as plt\n",
        "pd.read_csv('/content/epinion.csv',nrows=25)\n",
        "subgraph=nx.read_edgelist('/content/epinion.csv',delimiter=',',create_using=nx.DiGraph(),nodetype=int)\n",
        "pos=nx.spring_layout(subgraph)\n",
        "nx.draw(subgraph,pos,node_color='#A0CBE2',edge_color='#00bb5e',width=1,edge_cmap=plt.cm.Blues,with_labels=True)\n",
        "plt.savefig(\"graph_sample.pdf\")\n",
        "print(nx.info(subgraph))\n"
      ]
    },
    {
      "cell_type": "markdown",
      "metadata": {
        "id": "RlPQcI1LsZPO"
      },
      "source": [
        "## 3. Data Preparation"
      ]
    },
    {
      "cell_type": "markdown",
      "metadata": {
        "id": "rPRAiLfidqmv"
      },
      "source": [
        "Generating some edges which are not present in graph for supervised learning\n"
      ]
    },
    {
      "cell_type": "code",
      "execution_count": null,
      "metadata": {
        "id": "tEQ8LHL1q89P"
      },
      "outputs": [],
      "source": [
        "import random\n",
        "r = csv.reader(open('/content/epinion.csv','r'))\n",
        "edges = dict()\n",
        "for edge in r:\n",
        "\tedges[(edge[0], edge[1])] = 1\n",
        "    \n",
        "missing_edges = set([])\n",
        "while (len(missing_edges)<51301):\n",
        "\ta=random.randint(1, 6551)\n",
        "\tb=random.randint(1, 6551)\n",
        "\ttmp = edges.get((a,b),-1)\n",
        "\tif tmp == -1 and a!=b:\n",
        "\t\ttry:\n",
        "\t\t\tif nx.shortest_path_length(g,source=a,target=b) > 2: \n",
        "\n",
        "\t\t\t\tmissing_edges.add((a,b))\n",
        "\t\t\telse:\n",
        "\t\t\t\tcontinue  \n",
        "\t\texcept:  \n",
        "\t\t\t\tmissing_edges.add((a,b))              \n",
        "\telse:\n",
        "\t\tcontinue"
      ]
    },
    {
      "cell_type": "code",
      "execution_count": null,
      "metadata": {
        "id": "8wsPulUUur6a"
      },
      "outputs": [],
      "source": [
        "import pickle\n",
        "pickle.dump(missing_edges,open('missing_edges_final.p','wb'))"
      ]
    },
    {
      "cell_type": "markdown",
      "metadata": {
        "id": "Jf-157baFoPy"
      },
      "source": [
        "### Train-Test Split"
      ]
    },
    {
      "cell_type": "code",
      "execution_count": null,
      "metadata": {
        "colab": {
          "base_uri": "https://localhost:8080/"
        },
        "id": "yRpiRU_3wDG1",
        "outputId": "0998d55c-9d8a-412c-bdde-8a9d89d7f012"
      },
      "outputs": [
        {
          "output_type": "stream",
          "name": "stdout",
          "text": [
            "Number of nodes in the graph with edges 508837\n",
            "Number of nodes in the graph without edges 51301\n",
            "============================================================\n",
            "Number of nodes in the train data graph with edges 407069 = 407069\n",
            "Number of nodes in the train data graph without edges 41040 = 41040\n",
            "============================================================\n",
            "Number of nodes in the test data graph with edges 101768 = 101768\n",
            "Number of nodes in the test data graph without edges 10261 = 10261\n"
          ]
        }
      ],
      "source": [
        "from sklearn import model_selection\n",
        "import numpy as np\n",
        "\n",
        "df_pos = pd.read_csv('/content/epinion.csv')\n",
        "df_neg = pd.DataFrame(list(missing_edges), columns=['source_node', 'destination_node'])\n",
        "print(\"Number of nodes in the graph with edges\", df_pos.shape[0])\n",
        "print(\"Number of nodes in the graph without edges\", df_neg.shape[0])\n",
        "#Trian test split \n",
        "#Spiltted data into 80-20 \n",
        "#positive links and negative links seperatly because we need positive training data only for creating graph \n",
        "#and for feature generation\n",
        "X_train_pos, X_test_pos, y_train_pos, y_test_pos  = model_selection.train_test_split(df_pos,np.ones(len(df_pos)),test_size=0.2, random_state=9)\n",
        "X_train_neg, X_test_neg, y_train_neg, y_test_neg  = model_selection.train_test_split(df_neg,np.zeros(len(df_neg)),test_size=0.2, random_state=9)\n",
        "print('='*60)\n",
        "print(\"Number of nodes in the train data graph with edges\", X_train_pos.shape[0],\"=\",y_train_pos.shape[0])\n",
        "print(\"Number of nodes in the train data graph without edges\", X_train_neg.shape[0],\"=\", y_train_neg.shape[0])\n",
        "print('='*60)\n",
        "print(\"Number of nodes in the test data graph with edges\", X_test_pos.shape[0],\"=\",y_test_pos.shape[0])\n",
        "print(\"Number of nodes in the test data graph without edges\", X_test_neg.shape[0],\"=\",y_test_neg.shape[0])\n",
        "#removing header and saving\n",
        "X_train_pos.to_csv('train_pos.csv',header=False, index=False)\n",
        "X_test_pos.to_csv('test_pos.csv',header=False, index=False)\n",
        "X_train_neg.to_csv('train_neg.csv',header=False, index=False)\n",
        "X_test_neg.to_csv('test_neg.csv',header=False, index=False)"
      ]
    },
    {
      "cell_type": "code",
      "execution_count": null,
      "metadata": {
        "id": "IezJbPWXxbQI"
      },
      "outputs": [],
      "source": [
        "import os\n",
        "\n",
        "if (os.path.isfile('train_pos.csv')) and (os.path.isfile('test_pos_after.csv')):        \n",
        "    train_graph=nx.read_edgelist('train_pos.csv',delimiter=',',create_using=nx.DiGraph(),nodetype=int)\n",
        "    test_graph=nx.read_edgelist('test_pos.csv',delimiter=',',create_using=nx.DiGraph(),nodetype=int)\n",
        "    print(nx.info(train_graph))\n",
        "    print(nx.info(test_graph))\n",
        "\n",
        "    # finding the unique nodes in the both train and test graphs\n",
        "    train_nodes_pos = set(train_graph.nodes())\n",
        "    test_nodes_pos = set(test_graph.nodes())\n",
        "\n",
        "    ttpi= len(train_nodes_pos.intersection(test_nodes_pos))\n",
        "    ttpd = len(train_nodes_pos - test_nodes_pos)\n",
        "    dptt = len(test_nodes_pos - train_nodes_pos)\n",
        "\n",
        "    print('no of people common in train and test -- ',ttpi)\n",
        "    print('no of people present in train but not present in test -- ',ttpd)\n",
        "\n",
        "    print('no of people present in test but not present in train -- ',dptt)\n",
        "    print(' % of people not there in Train but exist in Test in total Test data are {} %'.format(dptt/len(test_nodes_pos)*100))"
      ]
    },
    {
      "cell_type": "code",
      "execution_count": null,
      "metadata": {
        "id": "HiVIntMLxsoY",
        "colab": {
          "base_uri": "https://localhost:8080/"
        },
        "outputId": "b8b27e0b-ee09-405f-9df9-434c0f3906de"
      },
      "outputs": [
        {
          "output_type": "stream",
          "name": "stdout",
          "text": [
            "============================================================\n",
            "Number of nodes in the train data graph with edges 407069\n",
            "Number of nodes in the train data graph without edges 41040\n",
            "============================================================\n",
            "Number of nodes in the test data graph with edges 101768\n",
            "Number of nodes in the test data graph without edges 10261\n"
          ]
        }
      ],
      "source": [
        "if (not os.path.isfile('train.csv')) and \\\n",
        "(not os.path.isfile('test.csv')) and \\\n",
        "(not os.path.isfile('train_y.csv')) and \\\n",
        "(not os.path.isfile('test_y.csv')) and \\\n",
        "(os.path.isfile('train_pos.csv')) and \\\n",
        "(os.path.isfile('test_pos.csv')) and \\\n",
        "(os.path.isfile('train_neg.csv')) and \\\n",
        "(os.path.isfile('test_neg.csv')):\n",
        "    \n",
        "    X_train_pos = pd.read_csv('train_pos.csv', names=['source_node', 'destination_node'])\n",
        "    X_test_pos = pd.read_csv('test_pos.csv', names=['source_node', 'destination_node'])\n",
        "    X_train_neg = pd.read_csv('train_neg.csv', names=['source_node', 'destination_node'])\n",
        "    X_test_neg = pd.read_csv('test_neg.csv', names=['source_node', 'destination_node'])\n",
        "\n",
        "    print('='*60)\n",
        "    print(\"Number of nodes in the train data graph with edges\", X_train_pos.shape[0])\n",
        "    print(\"Number of nodes in the train data graph without edges\", X_train_neg.shape[0])\n",
        "    print('='*60)\n",
        "    print(\"Number of nodes in the test data graph with edges\", X_test_pos.shape[0])\n",
        "    print(\"Number of nodes in the test data graph without edges\", X_test_neg.shape[0])\n",
        "\n",
        "    X_train = X_train_pos.append(X_train_neg,ignore_index=True)\n",
        "    y_train = np.concatenate((y_train_pos,y_train_neg))\n",
        "    X_test = X_test_pos.append(X_test_neg,ignore_index=True)\n",
        "    y_test = np.concatenate((y_test_pos,y_test_neg)) \n",
        "    X_train.to_csv('train.csv',header=False,index=False)\n",
        "    X_test.to_csv('test.csv',header=False,index=False)\n",
        "    pd.DataFrame(y_train.astype(int)).to_csv('train_y.csv',header=False,index=False)\n",
        "    pd.DataFrame(y_test.astype(int)).to_csv('test_y.csv',header=False,index=False)\n"
      ]
    },
    {
      "cell_type": "markdown",
      "metadata": {
        "id": "eyKlSNGFFMoE"
      },
      "source": [
        "## 4. Featurisation"
      ]
    },
    {
      "cell_type": "markdown",
      "metadata": {
        "id": "1iHdyCzsEmF8"
      },
      "source": [
        "### 1. Jaccard Index"
      ]
    },
    {
      "cell_type": "code",
      "execution_count": null,
      "metadata": {
        "id": "PaseKzuj2Ug9"
      },
      "outputs": [],
      "source": [
        "def jaccard_for_followees(a,b):\n",
        "    try:\n",
        "        if len(set(g.successors(a))) == 0  | len(set(g.successors(b))) == 0:\n",
        "            return 0\n",
        "        sim = (len(set(g.successors(a)).intersection(set(g.successors(b)))))/\\\n",
        "                                    (len(set(g.successors(a)).union(set(g.successors(b)))))\n",
        "    except:\n",
        "        return 0\n",
        "    return sim"
      ]
    },
    {
      "cell_type": "code",
      "execution_count": null,
      "metadata": {
        "colab": {
          "base_uri": "https://localhost:8080/"
        },
        "id": "pe9kGEoc2avx",
        "outputId": "34b05e11-6596-4045-e2d2-3723bc8a00e2"
      },
      "outputs": [
        {
          "output_type": "execute_result",
          "data": {
            "text/plain": [
              "0.09695290858725762"
            ]
          },
          "metadata": {},
          "execution_count": 13
        }
      ],
      "source": [
        "jaccard_for_followees(1,4)"
      ]
    },
    {
      "cell_type": "code",
      "execution_count": null,
      "metadata": {
        "colab": {
          "base_uri": "https://localhost:8080/"
        },
        "id": "YgmLcclTgRPb",
        "outputId": "dc2c8030-5056-4dc7-a93f-c18f3e3e3899"
      },
      "outputs": [
        {
          "output_type": "execute_result",
          "data": {
            "text/plain": [
              "0.15675675675675677"
            ]
          },
          "metadata": {},
          "execution_count": 18
        }
      ],
      "source": [
        "jaccard_for_followees(0,4)"
      ]
    },
    {
      "cell_type": "code",
      "execution_count": null,
      "metadata": {
        "id": "O-HWjbn1x7Cs"
      },
      "outputs": [],
      "source": [
        "def jaccard_for_followers(a,b):\n",
        "    try:\n",
        "        if len(set(g.predecessors(a))) == 0  | len(set(g.predecessors(b))) == 0:\n",
        "            return 0\n",
        "        sim = (len(set(g.predecessors(a)).intersection(set(g.predecessors(b)))))/\\\n",
        "                                 (len(set(g.predecessors(a)).union(set(g.predecessors(b)))))\n",
        "        return sim\n",
        "    except:\n",
        "        return 0"
      ]
    },
    {
      "cell_type": "code",
      "execution_count": null,
      "metadata": {
        "colab": {
          "base_uri": "https://localhost:8080/"
        },
        "id": "KxkSw6v32CBn",
        "outputId": "c26cb699-ed01-46d9-e485-7370cc9b4f42"
      },
      "outputs": [
        {
          "output_type": "execute_result",
          "data": {
            "text/plain": [
              "0.03380281690140845"
            ]
          },
          "metadata": {},
          "execution_count": 14
        }
      ],
      "source": [
        "jaccard_for_followers(1,3)"
      ]
    },
    {
      "cell_type": "code",
      "execution_count": null,
      "metadata": {
        "colab": {
          "base_uri": "https://localhost:8080/"
        },
        "id": "d8ehEbUv2OYm",
        "outputId": "0204e5bc-f6c7-4526-f011-f76aec937078"
      },
      "outputs": [
        {
          "output_type": "execute_result",
          "data": {
            "text/plain": [
              "0.09894459102902374"
            ]
          },
          "metadata": {},
          "execution_count": 21
        }
      ],
      "source": [
        "jaccard_for_followers(0,10)"
      ]
    },
    {
      "cell_type": "markdown",
      "metadata": {
        "id": "BRdeU1m2EaJK"
      },
      "source": [
        "### 2. Salton Index(Cosine Similarity)"
      ]
    },
    {
      "cell_type": "code",
      "execution_count": null,
      "metadata": {
        "id": "_N95eCJUx_kz"
      },
      "outputs": [],
      "source": [
        "#for followees\n",
        "import math\n",
        "def cosine_for_followees(a,b):\n",
        "    try:\n",
        "        if len(set(g.successors(a))) == 0  | len(set(g.successors(b))) == 0:\n",
        "            return 0\n",
        "        sim = (len(set(g.successors(a)).intersection(set(g.successors(b))))) /\\\n",
        "                                    (math.sqrt(len(set(g.successors(a)))*len((set(g.successors(b))))))\n",
        "        return sim\n",
        "    except:\n",
        "        return 0"
      ]
    },
    {
      "cell_type": "code",
      "execution_count": null,
      "metadata": {
        "colab": {
          "base_uri": "https://localhost:8080/"
        },
        "id": "W9LJCS5H22CB",
        "outputId": "87db7e77-7dc5-4d39-be45-db73010a40dc"
      },
      "outputs": [
        {
          "output_type": "execute_result",
          "data": {
            "text/plain": [
              "0.055978284637524"
            ]
          },
          "metadata": {},
          "execution_count": 23
        }
      ],
      "source": [
        "cosine_for_followees(0,13)"
      ]
    },
    {
      "cell_type": "code",
      "execution_count": null,
      "metadata": {
        "id": "AG2Od2kf3LQP"
      },
      "outputs": [],
      "source": [
        "import math\n",
        "def cosine_for_followers(a,b):\n",
        "    try:\n",
        "        \n",
        "        if len(set(g.predecessors(a))) == 0  | len(set(g.predecessors(b))) == 0:\n",
        "            return 0\n",
        "        sim = (len(set(g.predecessors(a)).intersection(set(g.predecessors(b)))))/\\\n",
        "                                     (math.sqrt(len(set(g.predecessors(a))))*(len(set(g.predecessors(b)))))\n",
        "        return sim\n",
        "    except:\n",
        "        return 0\n"
      ]
    },
    {
      "cell_type": "code",
      "execution_count": null,
      "metadata": {
        "colab": {
          "base_uri": "https://localhost:8080/"
        },
        "id": "JPDho4ug3PXq",
        "outputId": "6bb4bcd7-3782-4f46-9d31-d6f7dd1ccc0d"
      },
      "outputs": [
        {
          "output_type": "execute_result",
          "data": {
            "text/plain": [
              "0.013842001210310392"
            ]
          },
          "metadata": {},
          "execution_count": 14
        }
      ],
      "source": [
        "cosine_for_followers(1,4)"
      ]
    },
    {
      "cell_type": "markdown",
      "metadata": {
        "id": "Jc9bA4u9EVLB"
      },
      "source": [
        "### 3. Adamic-Adar Index"
      ]
    },
    {
      "cell_type": "code",
      "execution_count": null,
      "metadata": {
        "id": "Zci_t4uJyFdU"
      },
      "outputs": [],
      "source": [
        "#adar index\n",
        "def calc_adar_in(a,b):\n",
        "    sum=0\n",
        "    try:\n",
        "        n=list(set(g.successors(a)).intersection(set(g.successors(b))))\n",
        "        if len(n)!=0:\n",
        "            for i in n:\n",
        "                sum=sum+(1/np.log10(len(list(g.predecessors(i)))))\n",
        "            return sum\n",
        "        else:\n",
        "            return 0\n",
        "    except:\n",
        "        return 0"
      ]
    },
    {
      "cell_type": "code",
      "execution_count": null,
      "metadata": {
        "colab": {
          "base_uri": "https://localhost:8080/"
        },
        "id": "uZSzCcWg31Ez",
        "outputId": "ea271c22-3fde-4655-9af1-e6ad1ca850be"
      },
      "outputs": [
        {
          "output_type": "execute_result",
          "data": {
            "text/plain": [
              "1.2063731783579081"
            ]
          },
          "metadata": {},
          "execution_count": 16
        }
      ],
      "source": [
        "calc_adar_in(0,6)"
      ]
    },
    {
      "cell_type": "markdown",
      "metadata": {
        "id": "_9ZDMeJpEP9H"
      },
      "source": [
        "\n",
        "\n",
        "### 4. Hub Improved Index"
      ]
    },
    {
      "cell_type": "code",
      "execution_count": null,
      "metadata": {
        "id": "7bsz6iFM0xJ6"
      },
      "outputs": [],
      "source": [
        "def calc_hub_promoted_followees(a,b):\n",
        "    try:\n",
        "        if len(set(g.successors(a))) == 0  | len(set(g.successors(b))) == 0:\n",
        "            return 0\n",
        "        x=(len(set(g.successors(a))))\n",
        "        y=(len(set(g.successors(b))))\n",
        "        sim = (len(set(g.successors(a)).intersection(set(g.successors(b)))))/\\\n",
        "                                 min(x,y)\n",
        "        return sim\n",
        "    except:\n",
        "        return 0"
      ]
    },
    {
      "cell_type": "code",
      "execution_count": null,
      "metadata": {
        "colab": {
          "base_uri": "https://localhost:8080/"
        },
        "id": "HMtPUs_K5xq8",
        "outputId": "a4e19f40-579f-4795-fa16-2d48ee5079cf"
      },
      "outputs": [
        {
          "output_type": "execute_result",
          "data": {
            "text/plain": [
              "0.5370370370370371"
            ]
          },
          "metadata": {},
          "execution_count": 18
        }
      ],
      "source": [
        "calc_hub_promoted_followees(1,2)"
      ]
    },
    {
      "cell_type": "code",
      "execution_count": null,
      "metadata": {
        "colab": {
          "base_uri": "https://localhost:8080/"
        },
        "id": "DDgvC5wg9X4W",
        "outputId": "f75d4d5d-5793-4e9c-d9e7-bf5cbf5d6d8a"
      },
      "outputs": [
        {
          "output_type": "execute_result",
          "data": {
            "text/plain": [
              "0.46534653465346537"
            ]
          },
          "metadata": {},
          "execution_count": 30
        }
      ],
      "source": [
        "calc_hub_promoted_followees(1,5)"
      ]
    },
    {
      "cell_type": "code",
      "execution_count": null,
      "metadata": {
        "id": "i-OSa4AD5w_B"
      },
      "outputs": [],
      "source": [
        "def calc_hub_promoted_followers(a,b):\n",
        "    try:\n",
        "        if len(set(g.predecessors(a))) == 0  | len(set(g.predecessors(b))) == 0:\n",
        "            return 0\n",
        "        x=(len(set(g.predecessors(a))))\n",
        "        y=(len(set(g.predecessors(b))))\n",
        "        sim = (len(set(g.predecessors(a)).intersection(set(g.predecessors(b)))))/\\\n",
        "                                 min(x,y)\n",
        "        return sim\n",
        "    except:\n",
        "        return 0"
      ]
    },
    {
      "cell_type": "code",
      "execution_count": null,
      "metadata": {
        "colab": {
          "base_uri": "https://localhost:8080/"
        },
        "id": "U91GYv5a9uB9",
        "outputId": "d7afe310-6739-41a5-8bd1-35ae6c3871eb"
      },
      "outputs": [
        {
          "output_type": "execute_result",
          "data": {
            "text/plain": [
              "0.36904761904761907"
            ]
          },
          "metadata": {},
          "execution_count": 26
        }
      ],
      "source": [
        "calc_hub_promoted_followers(1,5)"
      ]
    },
    {
      "cell_type": "code",
      "execution_count": null,
      "metadata": {
        "colab": {
          "base_uri": "https://localhost:8080/"
        },
        "id": "vpTB5ZwB9_Op",
        "outputId": "8bb67302-4396-48bf-9ac8-8707c424fa9f"
      },
      "outputs": [
        {
          "output_type": "execute_result",
          "data": {
            "text/plain": [
              "0.03180212014134275"
            ]
          },
          "metadata": {},
          "execution_count": 27
        }
      ],
      "source": [
        "calc_hub_promoted_followers(12,13)"
      ]
    },
    {
      "cell_type": "markdown",
      "metadata": {
        "id": "3FLrCMVEELIU"
      },
      "source": [
        "### 5. Hub Depressed Index"
      ]
    },
    {
      "cell_type": "code",
      "execution_count": null,
      "metadata": {
        "id": "SOYpJMIMmKc9"
      },
      "outputs": [],
      "source": [
        "def calc_hub_depressed_followees(a,b):\n",
        "    try:\n",
        "        if len(set(g.successors(a))) == 0  | len(set(g.successors(b))) == 0:\n",
        "            return 0\n",
        "        x=(len(set(g.successors(a))))\n",
        "        y=(len(set(g.successors(b))))\n",
        "        sim = (len(set(g.successors(a)).intersection(set(g.successors(b)))))/\\\n",
        "                                 max(x,y)\n",
        "        return sim\n",
        "    except:\n",
        "        return 0\n"
      ]
    },
    {
      "cell_type": "code",
      "execution_count": null,
      "metadata": {
        "colab": {
          "base_uri": "https://localhost:8080/"
        },
        "id": "uoyhPG0N_IMs",
        "outputId": "ff10186e-c2c5-4858-8228-51a4653c5b91"
      },
      "outputs": [
        {
          "output_type": "execute_result",
          "data": {
            "text/plain": [
              "0.090625"
            ]
          },
          "metadata": {},
          "execution_count": 29
        }
      ],
      "source": [
        "calc_hub_depressed_followees(1,2)"
      ]
    },
    {
      "cell_type": "code",
      "execution_count": null,
      "metadata": {
        "colab": {
          "base_uri": "https://localhost:8080/"
        },
        "id": "sLQY9Xph_Ms9",
        "outputId": "3367def4-7bda-4969-a8fb-a918eddeed01"
      },
      "outputs": [
        {
          "output_type": "execute_result",
          "data": {
            "text/plain": [
              "0.146875"
            ]
          },
          "metadata": {},
          "execution_count": 18
        }
      ],
      "source": [
        "calc_hub_depressed_followees(1,5)"
      ]
    },
    {
      "cell_type": "code",
      "execution_count": null,
      "metadata": {
        "id": "a5YQL_d1-Ik-"
      },
      "outputs": [],
      "source": [
        "def calc_hub_depressed_followers(a,b):\n",
        "    try:\n",
        "        if len(set(g.predecessors(a))) == 0  | len(set(g.predecessors(b))) == 0:\n",
        "            return 0\n",
        "        x=(len(set(g.predecessors(a))))\n",
        "        y=(len(set(g.predecessors(b))))\n",
        "        sim = (len(set(g.predecessors(a)).intersection(set(g.predecessors(b)))))/\\\n",
        "                                 max(x,y)\n",
        "        return sim\n",
        "    except:\n",
        "        return 0"
      ]
    },
    {
      "cell_type": "code",
      "execution_count": null,
      "metadata": {
        "colab": {
          "base_uri": "https://localhost:8080/"
        },
        "id": "O_jZawNP-SOe",
        "outputId": "37f8cdc9-813e-4d37-bb16-0a6b6f9e09a6"
      },
      "outputs": [
        {
          "output_type": "execute_result",
          "data": {
            "text/plain": [
              "0.0876944837340877"
            ]
          },
          "metadata": {},
          "execution_count": 32
        }
      ],
      "source": [
        "calc_hub_depressed_followers(1,5)"
      ]
    },
    {
      "cell_type": "markdown",
      "metadata": {
        "id": "BI1WrZPIEBnw"
      },
      "source": [
        "### 6. Leicht-Holme-Newman Index"
      ]
    },
    {
      "cell_type": "code",
      "execution_count": null,
      "metadata": {
        "id": "1fRsCwkL3_hU"
      },
      "outputs": [],
      "source": [
        "def cal_lhn_followees(a,b):\n",
        "    try:\n",
        "        if len(set(g.successors(a))) == 0  | len(set(g.successors(b))) == 0:\n",
        "            return 0\n",
        "        sim = (len(set(g.successors(a)).intersection(set(g.successors(b)))))/\\\n",
        "                                    len(set(g.successors(a)))*(len(set(g.successors(b))))\n",
        "        return sim\n",
        "    except:\n",
        "        return 0\n",
        "\n"
      ]
    },
    {
      "cell_type": "code",
      "execution_count": null,
      "metadata": {
        "colab": {
          "base_uri": "https://localhost:8080/"
        },
        "id": "WzxBfJMt_dzZ",
        "outputId": "46b81e3c-1bf2-451d-ad3c-958a4e782c82"
      },
      "outputs": [
        {
          "output_type": "execute_result",
          "data": {
            "text/plain": [
              "4.89375"
            ]
          },
          "metadata": {},
          "execution_count": 34
        }
      ],
      "source": [
        "cal_lhn_followees(1,2)"
      ]
    },
    {
      "cell_type": "code",
      "execution_count": null,
      "metadata": {
        "id": "3D56IXGY_c-W"
      },
      "outputs": [],
      "source": [
        "def cal_lhn_followers(a,b):\n",
        "    try:\n",
        "        if len(set(g.predecessors(a))) == 0  | len(set(g.predecessors(b))) == 0:\n",
        "            return 0\n",
        "        sim = (len(set(g.predecessors(a)).intersection(set(g.predecessors(b)))))/\\\n",
        "                                    len(set(g.predecessors(a)))*len(set(g.predecessors(b)))\n",
        "        return sim\n",
        "    except:\n",
        "        return 0"
      ]
    },
    {
      "cell_type": "code",
      "execution_count": null,
      "metadata": {
        "colab": {
          "base_uri": "https://localhost:8080/"
        },
        "id": "u3pLIQUd_3oW",
        "outputId": "e7706bfd-8a8f-4ded-fae5-d04c69112ad5"
      },
      "outputs": [
        {
          "output_type": "execute_result",
          "data": {
            "text/plain": [
              "7.174647887323944"
            ]
          },
          "metadata": {},
          "execution_count": 36
        }
      ],
      "source": [
        "cal_lhn_followers(12,13)"
      ]
    },
    {
      "cell_type": "markdown",
      "metadata": {
        "id": "27jRrNDoHVy4"
      },
      "source": [
        "### Resource allocation index"
      ]
    },
    {
      "cell_type": "markdown",
      "metadata": {
        "id": "8hS78Fg1D-MU"
      },
      "source": [
        "### 7.Page Rank \n",
        "\n",
        "PageRank works by counting the number and quality of links to a nodes to determine a rough estimate of how important the node is."
      ]
    },
    {
      "cell_type": "code",
      "execution_count": null,
      "metadata": {
        "colab": {
          "base_uri": "https://localhost:8080/"
        },
        "id": "veVJucb3pK13",
        "outputId": "f8248749-4533-49be-f365-44029fbe0a5e"
      },
      "outputs": [
        {
          "output_type": "stream",
          "name": "stdout",
          "text": [
            "min 2.8653962734226504e-06\n",
            "max 0.004657201317038452\n",
            "mean 1.3178876896128775e-05\n"
          ]
        }
      ],
      "source": [
        "import networkx as nx\n",
        "pr = nx.pagerank(g, alpha=0.85)\n",
        "pickle.dump(pr,open('page_rank.p','wb'))\n",
        "mean_pr=float(sum(pr.values())) / len(pr)\n",
        "print('min',pr[min(pr, key=pr.get)])\n",
        "print('max',pr[max(pr, key=pr.get)])\n",
        "print('mean',float(sum(pr.values())) / len(pr))\n"
      ]
    },
    {
      "cell_type": "markdown",
      "metadata": {
        "id": "b1pqWwAqD6Pu"
      },
      "source": [
        "### 8.Katz Centrality\n",
        "\n",
        "Katz centrality of a node is a measure of centrality in a network. Unlike typical centrality measures which consider only the shortest path between a pair of nodes, Katz centrality measures influence by taking into account the total number of walks between a pair of nodes."
      ]
    },
    {
      "cell_type": "code",
      "execution_count": null,
      "metadata": {
        "colab": {
          "base_uri": "https://localhost:8080/"
        },
        "id": "hgKzuVQbof0O",
        "outputId": "7cf85ce3-42d8-450a-d7b8-05a550b810f0"
      },
      "outputs": [
        {
          "output_type": "stream",
          "name": "stdout",
          "text": [
            "min 0.00327004058263681\n",
            "max 0.07755761407863213\n",
            "mean 0.0034642427108420954\n"
          ]
        }
      ],
      "source": [
        "katz = nx.katz.katz_centrality(g,alpha=0.005,beta=1)\n",
        "pickle.dump(katz,open('katz.p','wb'))\n",
        "mean_katz=0.0007483801279873423\n",
        "print('min',katz[min(katz, key=katz.get)])\n",
        "print('max',katz[max(katz, key=katz.get)])\n",
        "print('mean',float(sum(katz.values())) / len(katz))\n"
      ]
    },
    {
      "cell_type": "markdown",
      "metadata": {
        "id": "_KFbiConD2Du"
      },
      "source": [
        "### 9. HITS\n",
        "\n",
        "Hyper-link induced topic search (HITS) identifies good authorities and hubs for a topic by assigning two numbers to a node : an authority and a hub weight. Authorities estimate the node value based on the incoming links. Hubs estimates the node value based on outgoing links."
      ]
    },
    {
      "cell_type": "code",
      "execution_count": null,
      "metadata": {
        "colab": {
          "base_uri": "https://localhost:8080/"
        },
        "id": "4lfAgPGppoIv",
        "outputId": "712dbaed-91ed-4bdb-8188-119262991920"
      },
      "outputs": [
        {
          "output_type": "stream",
          "name": "stdout",
          "text": [
            "min -4.784798798221463e-24\n",
            "max 0.002524548511910053\n",
            "mean 1.3178876896110969e-05\n"
          ]
        }
      ],
      "source": [
        "hits = nx.hits(g, max_iter=100, tol=1e-08, nstart=None, normalized=True)\n",
        "pickle.dump(hits,open('hits.p','wb'))\n",
        "print('min',hits[0][min(hits[0], key=hits[0].get)])\n",
        "print('max',hits[0][max(hits[0], key=hits[0].get)])\n",
        "print('mean',float(sum(hits[0].values())) / len(hits[0]))"
      ]
    },
    {
      "cell_type": "markdown",
      "metadata": {
        "id": "PkB5E-ml0JIy"
      },
      "source": [
        "### 10. Weakly Connected Components"
      ]
    },
    {
      "cell_type": "code",
      "execution_count": null,
      "metadata": {
        "id": "daOZPKZqvYla"
      },
      "outputs": [],
      "source": [
        "def compute_shortest_path_length(a,b):\n",
        "    p=-1\n",
        "    try:\n",
        "        if train_graph.has_edge(a,b):\n",
        "            train_graph.remove_edge(a,b)\n",
        "            p= nx.shortest_path_length(train_graph,source=a,target=b)\n",
        "            train_graph.add_edge(a,b)\n",
        "        else:\n",
        "            p= nx.shortest_path_length(train_graph,source=a,target=b)\n",
        "        return p\n",
        "    except:\n",
        "        return -1"
      ]
    },
    {
      "cell_type": "code",
      "execution_count": null,
      "metadata": {
        "id": "y0Wd1Nb0u26f"
      },
      "outputs": [],
      "source": [
        "wcc=list(nx.weakly_connected_components(g))\n",
        "def belongs_to_same_wcc(a,b):\n",
        "    index = []\n",
        "    if g.has_edge(b,a):\n",
        "        return 1\n",
        "    if g.has_edge(a,b):\n",
        "            for i in wcc:\n",
        "                if a in i:\n",
        "                    index= i\n",
        "                    break\n",
        "            if (b in index):\n",
        "                g.remove_edge(a,b)\n",
        "                if compute_shortest_path_length(a,b)==-1:\n",
        "                    g.add_edge(a,b)\n",
        "                    return 0\n",
        "                else:\n",
        "                    g.add_edge(a,b)\n",
        "                    return 1\n",
        "            else:\n",
        "                return 0\n",
        "    else:\n",
        "            for i in wcc:\n",
        "                if a in i:\n",
        "                    index= i\n",
        "                    break\n",
        "            if(b in index):\n",
        "                return 1\n",
        "            else:\n",
        "                return 0"
      ]
    },
    {
      "cell_type": "markdown",
      "metadata": {
        "id": "uNwcSDMGGMDS"
      },
      "source": [
        "### Final Train-Test Matrix"
      ]
    },
    {
      "cell_type": "code",
      "execution_count": 78,
      "metadata": {
        "colab": {
          "base_uri": "https://localhost:8080/"
        },
        "id": "o2n9P1Oe0I0S",
        "outputId": "9b9d0031-3ec2-4073-b8b7-5731e5f7d5ce"
      },
      "outputs": [
        {
          "output_type": "stream",
          "name": "stdout",
          "text": [
            "Our train matrix size  (448108, 3)\n",
            "Our test matrix size  (112029, 3)\n"
          ]
        }
      ],
      "source": [
        "df_final_train = pd.read_csv('train.csv', names=['source_node', 'destination_node'])\n",
        "df_final_train['indicator_link'] = pd.read_csv('train_y.csv', names=['indicator_link'])\n",
        "print(\"Our train matrix size \",df_final_train.shape)\n",
        "df_final_train.head(2)\n",
        "y_train = df_final_train['indicator_link']\n",
        "\n",
        "#test \n",
        "df_final_test = pd.read_csv('test.csv', names=['source_node', 'destination_node'])\n",
        "df_final_test['indicator_link'] = pd.read_csv('test_y.csv', names=['indicator_link'])\n",
        "print(\"Our test matrix size \",df_final_test.shape)\n",
        "df_final_test.head(2)\n",
        "y_test=df_final_test['indicator_link']\n"
      ]
    },
    {
      "cell_type": "code",
      "execution_count": 58,
      "metadata": {
        "colab": {
          "base_uri": "https://localhost:8080/"
        },
        "id": "rvHWZY5uz0m5",
        "outputId": "7573f135-c0ea-4f4d-b01a-e8781827e589"
      },
      "outputs": [
        {
          "output_type": "stream",
          "name": "stdout",
          "text": [
            "(112029, 3)\n",
            "(448108, 3)\n"
          ]
        }
      ],
      "source": [
        "print(df_final_test.shape)\n",
        "print(df_final_train.shape)"
      ]
    },
    {
      "cell_type": "markdown",
      "metadata": {
        "id": "leHfI_mh38dv"
      },
      "source": [
        "### Addition of all Features"
      ]
    },
    {
      "cell_type": "code",
      "execution_count": 74,
      "metadata": {
        "id": "0x1S1XoK383g"
      },
      "outputs": [],
      "source": [
        "df_final_train['jaccard_outdegree'] = df_final_train[0:448108].apply(lambda row:\n",
        "                                            jaccard_for_followers(row['source_node'],row['destination_node']),axis=1)\n",
        "df_final_test['jaccard_outdegree'] = df_final_test[0:112029].apply(lambda row:\n",
        "                                            jaccard_for_followers(row['source_node'],row['destination_node']),axis=1)\n",
        "\n",
        "df_final_train['jaccard_followees'] = df_final_train[:448108].apply(lambda row:\n",
        "                                            jaccard_for_followees(row['source_node'],row['destination_node']),axis=1)\n",
        "df_final_test['jaccard_followees'] = df_final_test[0:112029].apply(lambda row:\n",
        "                                            jaccard_for_followees(row['source_node'],row['destination_node']),axis=1)\n",
        "    \n",
        "\n",
        "df_final_train['cosine_followers'] = df_final_train[:448108].apply(lambda row:\n",
        "                                            cosine_for_followers(row['source_node'],row['destination_node']),axis=1)\n",
        "df_final_test['cosine_followers'] = df_final_test[0:112029].apply(lambda row:\n",
        "                                            cosine_for_followers(row['source_node'],row['destination_node']),axis=1)\n",
        "\n",
        "df_final_train['cosine_followees'] = df_final_train[:448108].apply(lambda row:\n",
        "                                            jaccard_for_followees(row['source_node'],row['destination_node']),axis=1)\n",
        "df_final_test['cosine_followees'] = df_final_test[0:112029].apply(lambda row:\n",
        "                                            jaccard_for_followees(row['source_node'],row['destination_node']),axis=1)\n",
        "\n",
        "                                          \n",
        "df_final_train['adar_index'] = df_final_train[:448108].apply(lambda row: calc_adar_in(row['source_node'],row['destination_node']),axis=1)\n",
        "df_final_test['adar_index'] = df_final_test[0:112029].apply(lambda row: calc_adar_in(row['source_node'],row['destination_node']),axis=1)\n"
      ]
    },
    {
      "cell_type": "code",
      "execution_count": 79,
      "metadata": {
        "id": "E74Hjsptzi-i"
      },
      "outputs": [],
      "source": [
        "df_final_train['hub_promoted_followees'] = df_final_train[:448108].apply(lambda row:\n",
        "                                            calc_hub_promoted_followees(row['source_node'],row['destination_node']),axis=1)\n",
        "df_final_test['hub_promoted_followees'] = df_final_test[0:112029].apply(lambda row:\n",
        "                                            calc_hub_promoted_followees(row['source_node'],row['destination_node']),axis=1)\n",
        "\n",
        "df_final_train['hub_promoted_followers'] = df_final_train[:448108].apply(lambda row:\n",
        "                                            calc_hub_promoted_followers(row['source_node'],row['destination_node']),axis=1)\n",
        "df_final_test['hub_promoted_followers'] = df_final_test[0:112029].apply(lambda row:\n",
        "                                            calc_hub_promoted_followers(row['source_node'],row['destination_node']),axis=1)"
      ]
    },
    {
      "cell_type": "code",
      "execution_count": 80,
      "metadata": {
        "id": "llKtUjCenrd-"
      },
      "outputs": [],
      "source": [
        "df_final_train['hub_depressed_followees'] = df_final_train[:448108].apply(lambda row:\n",
        "                                            calc_hub_depressed_followees(row['source_node'],row['destination_node']),axis=1)\n",
        "df_final_test['hub_depressed_followees'] = df_final_test[0:112029].apply(lambda row:\n",
        "                                            calc_hub_depressed_followees(row['source_node'],row['destination_node']),axis=1)\n",
        "\n",
        "df_final_train['hub_depressed_followers'] = df_final_train[:448108].apply(lambda row:\n",
        "                                            calc_hub_depressed_followers(row['source_node'],row['destination_node']),axis=1)\n",
        "df_final_test['hub_depressed_followers'] = df_final_test[0:112029].apply(lambda row:\n",
        "                                            calc_hub_depressed_followers(row['source_node'],row['destination_node']),axis=1)"
      ]
    },
    {
      "cell_type": "code",
      "execution_count": 81,
      "metadata": {
        "id": "dESM_plD6XQe"
      },
      "outputs": [],
      "source": [
        "df_final_train['lhn_followees'] = df_final_train[:448108].apply(lambda row:\n",
        "                                            cal_lhn_followees(row['source_node'],row['destination_node']),axis=1)\n",
        "df_final_test['lhn_followees'] = df_final_test[0:112029].apply(lambda row:\n",
        "                                            cal_lhn_followees(row['source_node'],row['destination_node']),axis=1)\n",
        "\n",
        "df_final_train['lhn_followers'] = df_final_train[:448108].apply(lambda row:\n",
        "                                            cal_lhn_followers(row['source_node'],row['destination_node']),axis=1)\n",
        "df_final_test['lhn_followers'] = df_final_test[:112029].apply(lambda row:\n",
        "                                            cal_lhn_followers(row['source_node'],row['destination_node']),axis=1)\n"
      ]
    },
    {
      "cell_type": "code",
      "execution_count": 82,
      "metadata": {
        "id": "SrdVqfp0p9vT"
      },
      "outputs": [],
      "source": [
        "df_final_train['page_rank_s'] = df_final_train.source_node.apply(lambda x:pr.get(x,mean_pr))\n",
        "df_final_train['page_rank_d'] = df_final_train.destination_node.apply(lambda x:pr.get(x,mean_pr))\n",
        "\n",
        "df_final_test['page_rank_s'] = df_final_test.source_node.apply(lambda x:pr.get(x,mean_pr))\n",
        "df_final_test['page_rank_d'] = df_final_test.destination_node.apply(lambda x:pr.get(x,mean_pr))\n",
        "\n",
        "df_final_train['katz_s'] = df_final_train.source_node.apply(lambda x: katz.get(x,mean_katz))\n",
        "df_final_train['katz_d'] = df_final_train.destination_node.apply(lambda x: katz.get(x,mean_katz))\n",
        "\n",
        "df_final_test['katz_s'] = df_final_test.source_node.apply(lambda x: katz.get(x,mean_katz))\n",
        "df_final_test['katz_d'] = df_final_test.destination_node.apply(lambda x: katz.get(x,mean_katz))\n",
        "\n",
        "df_final_train['hubs_s'] = df_final_train.source_node.apply(lambda x: hits[0].get(x,0))\n",
        "df_final_train['hubs_d'] = df_final_train.destination_node.apply(lambda x: hits[0].get(x,0))\n",
        "\n",
        "df_final_test['hubs_s'] = df_final_test.source_node.apply(lambda x: hits[0].get(x,0))\n",
        "df_final_test['hubs_d'] = df_final_test.destination_node.apply(lambda x: hits[0].get(x,0))\n",
        "\n",
        "df_final_train['authorities_s'] = df_final_train.source_node.apply(lambda x: hits[1].get(x,0))\n",
        "df_final_train['authorities_d'] = df_final_train.destination_node.apply(lambda x: hits[1].get(x,0))\n",
        "\n",
        "df_final_test['authorities_s'] = df_final_test.source_node.apply(lambda x: hits[1].get(x,0))\n",
        "df_final_test['authorities_d'] = df_final_test.destination_node.apply(lambda x: hits[1].get(x,0))\n"
      ]
    },
    {
      "cell_type": "code",
      "execution_count": 83,
      "metadata": {
        "id": "4n_oj03mvB1i"
      },
      "outputs": [],
      "source": [
        "df_final_train['same_comp'] = df_final_train.apply(lambda row: belongs_to_same_wcc(row['source_node'],row['destination_node']),axis=1)\n",
        "\n",
        "df_final_test['same_comp'] = df_final_test.apply(lambda row: belongs_to_same_wcc(row['source_node'],row['destination_node']),axis=1)\n"
      ]
    },
    {
      "cell_type": "code",
      "execution_count": 84,
      "metadata": {
        "colab": {
          "base_uri": "https://localhost:8080/"
        },
        "id": "V2QcZ2eY4RvS",
        "outputId": "e3d39f06-27ad-4156-8bec-05d1f84c4986"
      },
      "outputs": [
        {
          "output_type": "stream",
          "name": "stdout",
          "text": [
            "(448108, 15)\n"
          ]
        }
      ],
      "source": [
        "df_final_train.drop(['source_node', 'destination_node','indicator_link'],axis=1,inplace=True)\n",
        "df_final_test.drop(['source_node', 'destination_node','indicator_link'],axis=1,inplace=True)\n",
        "print(df_final_train.shape)"
      ]
    },
    {
      "cell_type": "code",
      "execution_count": 85,
      "metadata": {
        "colab": {
          "base_uri": "https://localhost:8080/",
          "height": 207
        },
        "id": "8VRAZEgOF4oZ",
        "outputId": "d2702b5d-bada-40a0-f0bf-f050cb5f3905"
      },
      "outputs": [
        {
          "output_type": "execute_result",
          "data": {
            "text/plain": [
              "   hub_promoted_followees  hub_promoted_followers  hub_depressed_followees  \\\n",
              "0                0.015625                0.080000                 0.011111   \n",
              "1                0.448276                0.183406                 0.218487   \n",
              "2                0.341880                0.295547                 0.285714   \n",
              "\n",
              "   hub_depressed_followers  lhn_followees  lhn_followers  page_rank_s  \\\n",
              "0                 0.058824       1.406250       2.720000     0.000033   \n",
              "1                 0.178723      53.344828      43.100437     0.000341   \n",
              "2                 0.164414      47.863248      40.610360     0.000675   \n",
              "\n",
              "   page_rank_d    katz_s    katz_d    hubs_s    hubs_d  authorities_s  \\\n",
              "0     0.000033  0.003792  0.004000  0.000124  0.000087       0.000027   \n",
              "1     0.000386  0.012163  0.014795  0.000303  0.000614       0.000676   \n",
              "2     0.000400  0.021141  0.015052  0.000518  0.000689       0.001359   \n",
              "\n",
              "   authorities_d  same_comp  \n",
              "0       0.000045          1  \n",
              "1       0.000909          1  \n",
              "2       0.000942          1  "
            ],
            "text/html": [
              "\n",
              "  <div id=\"df-ea991666-e8ef-43db-92cc-204ef76f1ddd\">\n",
              "    <div class=\"colab-df-container\">\n",
              "      <div>\n",
              "<style scoped>\n",
              "    .dataframe tbody tr th:only-of-type {\n",
              "        vertical-align: middle;\n",
              "    }\n",
              "\n",
              "    .dataframe tbody tr th {\n",
              "        vertical-align: top;\n",
              "    }\n",
              "\n",
              "    .dataframe thead th {\n",
              "        text-align: right;\n",
              "    }\n",
              "</style>\n",
              "<table border=\"1\" class=\"dataframe\">\n",
              "  <thead>\n",
              "    <tr style=\"text-align: right;\">\n",
              "      <th></th>\n",
              "      <th>hub_promoted_followees</th>\n",
              "      <th>hub_promoted_followers</th>\n",
              "      <th>hub_depressed_followees</th>\n",
              "      <th>hub_depressed_followers</th>\n",
              "      <th>lhn_followees</th>\n",
              "      <th>lhn_followers</th>\n",
              "      <th>page_rank_s</th>\n",
              "      <th>page_rank_d</th>\n",
              "      <th>katz_s</th>\n",
              "      <th>katz_d</th>\n",
              "      <th>hubs_s</th>\n",
              "      <th>hubs_d</th>\n",
              "      <th>authorities_s</th>\n",
              "      <th>authorities_d</th>\n",
              "      <th>same_comp</th>\n",
              "    </tr>\n",
              "  </thead>\n",
              "  <tbody>\n",
              "    <tr>\n",
              "      <th>0</th>\n",
              "      <td>0.015625</td>\n",
              "      <td>0.080000</td>\n",
              "      <td>0.011111</td>\n",
              "      <td>0.058824</td>\n",
              "      <td>1.406250</td>\n",
              "      <td>2.720000</td>\n",
              "      <td>0.000033</td>\n",
              "      <td>0.000033</td>\n",
              "      <td>0.003792</td>\n",
              "      <td>0.004000</td>\n",
              "      <td>0.000124</td>\n",
              "      <td>0.000087</td>\n",
              "      <td>0.000027</td>\n",
              "      <td>0.000045</td>\n",
              "      <td>1</td>\n",
              "    </tr>\n",
              "    <tr>\n",
              "      <th>1</th>\n",
              "      <td>0.448276</td>\n",
              "      <td>0.183406</td>\n",
              "      <td>0.218487</td>\n",
              "      <td>0.178723</td>\n",
              "      <td>53.344828</td>\n",
              "      <td>43.100437</td>\n",
              "      <td>0.000341</td>\n",
              "      <td>0.000386</td>\n",
              "      <td>0.012163</td>\n",
              "      <td>0.014795</td>\n",
              "      <td>0.000303</td>\n",
              "      <td>0.000614</td>\n",
              "      <td>0.000676</td>\n",
              "      <td>0.000909</td>\n",
              "      <td>1</td>\n",
              "    </tr>\n",
              "    <tr>\n",
              "      <th>2</th>\n",
              "      <td>0.341880</td>\n",
              "      <td>0.295547</td>\n",
              "      <td>0.285714</td>\n",
              "      <td>0.164414</td>\n",
              "      <td>47.863248</td>\n",
              "      <td>40.610360</td>\n",
              "      <td>0.000675</td>\n",
              "      <td>0.000400</td>\n",
              "      <td>0.021141</td>\n",
              "      <td>0.015052</td>\n",
              "      <td>0.000518</td>\n",
              "      <td>0.000689</td>\n",
              "      <td>0.001359</td>\n",
              "      <td>0.000942</td>\n",
              "      <td>1</td>\n",
              "    </tr>\n",
              "  </tbody>\n",
              "</table>\n",
              "</div>\n",
              "      <button class=\"colab-df-convert\" onclick=\"convertToInteractive('df-ea991666-e8ef-43db-92cc-204ef76f1ddd')\"\n",
              "              title=\"Convert this dataframe to an interactive table.\"\n",
              "              style=\"display:none;\">\n",
              "        \n",
              "  <svg xmlns=\"http://www.w3.org/2000/svg\" height=\"24px\"viewBox=\"0 0 24 24\"\n",
              "       width=\"24px\">\n",
              "    <path d=\"M0 0h24v24H0V0z\" fill=\"none\"/>\n",
              "    <path d=\"M18.56 5.44l.94 2.06.94-2.06 2.06-.94-2.06-.94-.94-2.06-.94 2.06-2.06.94zm-11 1L8.5 8.5l.94-2.06 2.06-.94-2.06-.94L8.5 2.5l-.94 2.06-2.06.94zm10 10l.94 2.06.94-2.06 2.06-.94-2.06-.94-.94-2.06-.94 2.06-2.06.94z\"/><path d=\"M17.41 7.96l-1.37-1.37c-.4-.4-.92-.59-1.43-.59-.52 0-1.04.2-1.43.59L10.3 9.45l-7.72 7.72c-.78.78-.78 2.05 0 2.83L4 21.41c.39.39.9.59 1.41.59.51 0 1.02-.2 1.41-.59l7.78-7.78 2.81-2.81c.8-.78.8-2.07 0-2.86zM5.41 20L4 18.59l7.72-7.72 1.47 1.35L5.41 20z\"/>\n",
              "  </svg>\n",
              "      </button>\n",
              "      \n",
              "  <style>\n",
              "    .colab-df-container {\n",
              "      display:flex;\n",
              "      flex-wrap:wrap;\n",
              "      gap: 12px;\n",
              "    }\n",
              "\n",
              "    .colab-df-convert {\n",
              "      background-color: #E8F0FE;\n",
              "      border: none;\n",
              "      border-radius: 50%;\n",
              "      cursor: pointer;\n",
              "      display: none;\n",
              "      fill: #1967D2;\n",
              "      height: 32px;\n",
              "      padding: 0 0 0 0;\n",
              "      width: 32px;\n",
              "    }\n",
              "\n",
              "    .colab-df-convert:hover {\n",
              "      background-color: #E2EBFA;\n",
              "      box-shadow: 0px 1px 2px rgba(60, 64, 67, 0.3), 0px 1px 3px 1px rgba(60, 64, 67, 0.15);\n",
              "      fill: #174EA6;\n",
              "    }\n",
              "\n",
              "    [theme=dark] .colab-df-convert {\n",
              "      background-color: #3B4455;\n",
              "      fill: #D2E3FC;\n",
              "    }\n",
              "\n",
              "    [theme=dark] .colab-df-convert:hover {\n",
              "      background-color: #434B5C;\n",
              "      box-shadow: 0px 1px 3px 1px rgba(0, 0, 0, 0.15);\n",
              "      filter: drop-shadow(0px 1px 2px rgba(0, 0, 0, 0.3));\n",
              "      fill: #FFFFFF;\n",
              "    }\n",
              "  </style>\n",
              "\n",
              "      <script>\n",
              "        const buttonEl =\n",
              "          document.querySelector('#df-ea991666-e8ef-43db-92cc-204ef76f1ddd button.colab-df-convert');\n",
              "        buttonEl.style.display =\n",
              "          google.colab.kernel.accessAllowed ? 'block' : 'none';\n",
              "\n",
              "        async function convertToInteractive(key) {\n",
              "          const element = document.querySelector('#df-ea991666-e8ef-43db-92cc-204ef76f1ddd');\n",
              "          const dataTable =\n",
              "            await google.colab.kernel.invokeFunction('convertToInteractive',\n",
              "                                                     [key], {});\n",
              "          if (!dataTable) return;\n",
              "\n",
              "          const docLinkHtml = 'Like what you see? Visit the ' +\n",
              "            '<a target=\"_blank\" href=https://colab.research.google.com/notebooks/data_table.ipynb>data table notebook</a>'\n",
              "            + ' to learn more about interactive tables.';\n",
              "          element.innerHTML = '';\n",
              "          dataTable['output_type'] = 'display_data';\n",
              "          await google.colab.output.renderOutput(dataTable, element);\n",
              "          const docLink = document.createElement('div');\n",
              "          docLink.innerHTML = docLinkHtml;\n",
              "          element.appendChild(docLink);\n",
              "        }\n",
              "      </script>\n",
              "    </div>\n",
              "  </div>\n",
              "  "
            ]
          },
          "metadata": {},
          "execution_count": 85
        }
      ],
      "source": [
        "df_final_train.head(3)"
      ]
    },
    {
      "cell_type": "markdown",
      "metadata": {
        "id": "z2ptJZylDkgu"
      },
      "source": [
        "## 5. Train Model"
      ]
    },
    {
      "cell_type": "markdown",
      "metadata": {
        "id": "kSFz593SxbzX"
      },
      "source": [
        "### 1. Random Forest Classifier"
      ]
    },
    {
      "cell_type": "code",
      "execution_count": null,
      "metadata": {
        "id": "5xpRnd1txcZO"
      },
      "outputs": [],
      "source": [
        "from sklearn.ensemble import RandomForestClassifier\n",
        "from sklearn.model_selection import RandomizedSearchCV\n",
        "\n",
        "\n",
        "from scipy.stats import randint\n",
        "\n",
        "param_dist = {\"n_estimators\":randint(50,75),\n",
        "              \"max_depth\": randint(5,10),\n",
        "              \"min_samples_split\": randint(100,150),\n",
        "              \"min_samples_leaf\": randint(25,55)}\n",
        "\n",
        "clf = RandomForestClassifier(random_state=25,n_jobs=-1)\n",
        "\n",
        "rf_random = RandomizedSearchCV(clf, param_distributions=param_dist,\n",
        "                                   n_iter=5,cv=10,scoring='accuracy',random_state=25)\n",
        "\n",
        "rf_random.fit(df_final_train,y_train)\n",
        "\n",
        "clf.fit(df_final_train,y_train)\n",
        "y_train_pred = clf.predict(df_final_train)\n",
        "y_test_pred = clf.predict(df_final_test)\n",
        "\n",
        "print('mean test scores',rf_random.cv_results_['mean_test_score'])"
      ]
    },
    {
      "cell_type": "code",
      "execution_count": null,
      "metadata": {
        "colab": {
          "base_uri": "https://localhost:8080/"
        },
        "id": "lstYce5WAf-K",
        "outputId": "2986da73-ec0f-40ef-aa7e-7435b3ff6528"
      },
      "outputs": [
        {
          "output_type": "stream",
          "name": "stdout",
          "text": [
            "0.9713020735702362\n"
          ]
        }
      ],
      "source": [
        "from sklearn.metrics import accuracy_score\n",
        "print(accuracy_score(y_test,y_test_pred))\n"
      ]
    },
    {
      "cell_type": "code",
      "source": [
        "from sklearn.metrics import confusion_matrix\n",
        "import matplotlib.pyplot as plt\n",
        "import seaborn as sns\n",
        "def plot_confusion_matrix(test_y, predict_y):\n",
        "    C = confusion_matrix(test_y, predict_y)\n",
        "    \n",
        "    A =(((C.T)/(C.sum(axis=1))).T)\n",
        "    \n",
        "    B =(C/C.sum(axis=0))\n",
        "    plt.figure(figsize=(20,4))\n",
        "    \n",
        "    labels = [0,1]\n",
        "    # representing A in heatmap format\n",
        "    cmap=sns.light_palette(\"green\")\n",
        "    plt.subplot(1, 3, 1)\n",
        "    sns.heatmap(C, annot=True, cmap=cmap, fmt=\".3f\", xticklabels=labels, yticklabels=labels)\n",
        "    plt.xlabel('Predicted Class')\n",
        "    plt.ylabel('Original Class')\n",
        "    plt.title(\"Confusion matrix\")\n",
        "    \n",
        "    plt.show()\n",
        "\n",
        "print('Test confusion_matrix')\n",
        "plot_confusion_matrix(y_test,y_test_pred)\n"
      ],
      "metadata": {
        "colab": {
          "base_uri": "https://localhost:8080/",
          "height": 313
        },
        "id": "8Sffa8FeyLH8",
        "outputId": "64e76e8c-97e5-4d5b-a401-31744defed72"
      },
      "execution_count": null,
      "outputs": [
        {
          "output_type": "stream",
          "name": "stdout",
          "text": [
            "Test confusion_matrix\n"
          ]
        },
        {
          "output_type": "display_data",
          "data": {
            "text/plain": [
              "<Figure size 1440x288 with 2 Axes>"
            ],
            "image/png": "[encoded data removed]"
          },
          "metadata": {
            "needs_background": "light"
          }
        }
      ]
    },
    {
      "cell_type": "markdown",
      "metadata": {
        "id": "FVHWTVvnBEgV"
      },
      "source": [
        "### 2. KNN"
      ]
    },
    {
      "cell_type": "code",
      "execution_count": null,
      "metadata": {
        "colab": {
          "base_uri": "https://localhost:8080/"
        },
        "id": "UEtYNncHBFTa",
        "outputId": "b172f129-7140-4b5c-bc4c-06057059ee8d"
      },
      "outputs": [
        {
          "output_type": "stream",
          "name": "stdout",
          "text": [
            "[1 1 1 ... 0 0 0]\n"
          ]
        }
      ],
      "source": [
        "from sklearn.neighbors import KNeighborsClassifier\n",
        "knn = KNeighborsClassifier(n_neighbors=7)\n",
        "y_test_pred=knn.fit(df_final_train, y_train)\n",
        " \n",
        "# Predict on dataset which model has not seen before\n",
        "print(knn.predict(df_final_test))\n"
      ]
    },
    {
      "cell_type": "code",
      "execution_count": null,
      "metadata": {
        "colab": {
          "base_uri": "https://localhost:8080/"
        },
        "id": "jF5NX5xeGEz1",
        "outputId": "88e92db5-f6cf-42a1-ab39-484cc799e610"
      },
      "outputs": [
        {
          "output_type": "stream",
          "name": "stdout",
          "text": [
            "0.9589448823992495\n"
          ]
        }
      ],
      "source": [
        "print(knn.score(df_final_test, y_test))"
      ]
    },
    {
      "cell_type": "code",
      "source": [
        "ans_pred=knn.predict(df_final_test)"
      ],
      "metadata": {
        "id": "Hq4VafcN-Xyn"
      },
      "execution_count": null,
      "outputs": []
    },
    {
      "cell_type": "code",
      "source": [
        "from sklearn.metrics import confusion_matrix\n",
        "import matplotlib.pyplot as plt\n",
        "import seaborn as sns\n",
        "def plot_confusion_matrix(test_y, predict_y):\n",
        "    C = confusion_matrix(test_y, predict_y)\n",
        "    \n",
        "    A =(((C.T)/(C.sum(axis=1))).T)\n",
        "    \n",
        "    B =(C/C.sum(axis=0))\n",
        "    plt.figure(figsize=(20,4))\n",
        "    \n",
        "    labels = [0,1]\n",
        "    # representing A in heatmap format\n",
        "    cmap=sns.light_palette(\"green\")\n",
        "    plt.subplot(1, 3, 1)\n",
        "    sns.heatmap(C, annot=True, cmap=cmap, fmt=\".3f\", xticklabels=labels, yticklabels=labels)\n",
        "    plt.xlabel('Predicted Class')\n",
        "    plt.ylabel('Original Class')\n",
        "    plt.title(\"Confusion matrix\")\n",
        "    \n",
        "    plt.show()\n",
        "\n",
        "print('Test confusion_matrix')\n",
        "plot_confusion_matrix(y_test,ans_pred)\n"
      ],
      "metadata": {
        "colab": {
          "base_uri": "https://localhost:8080/",
          "height": 313
        },
        "id": "sjndmzpm4eW9",
        "outputId": "52c15779-0f94-4e89-acfc-8fddecce0f74"
      },
      "execution_count": null,
      "outputs": [
        {
          "output_type": "stream",
          "name": "stdout",
          "text": [
            "Test confusion_matrix\n"
          ]
        },
        {
          "output_type": "display_data",
          "data": {
            "text/plain": [
              "<Figure size 1440x288 with 2 Axes>"
            ],
            "image/png": "[encoded data removed]"
          },
          "metadata": {
            "needs_background": "light"
          }
        }
      ]
    },
    {
      "cell_type": "markdown",
      "metadata": {
        "id": "MCEbiNKjGX4k"
      },
      "source": [
        "### 3. Support Vector Machine"
      ]
    },
    {
      "cell_type": "code",
      "execution_count": null,
      "metadata": {
        "id": "H4mNp8_bGYVA"
      },
      "outputs": [],
      "source": [
        "from sklearn import svm\n",
        "clf = svm.SVC(kernel='rbf', C=1).fit(df_final_train, y_train)"
      ]
    },
    {
      "cell_type": "code",
      "execution_count": null,
      "metadata": {
        "colab": {
          "base_uri": "https://localhost:8080/"
        },
        "id": "h-67R7ESJpAA",
        "outputId": "c7bc9389-506a-4fe8-f937-070ae8f31689"
      },
      "outputs": [
        {
          "output_type": "stream",
          "name": "stdout",
          "text": [
            "0.9084076444492051\n"
          ]
        }
      ],
      "source": [
        "from sklearn.metrics import accuracy_score\n",
        "classifier_predications= clf.predict(df_final_test)\n",
        "print(accuracy_score(y_test,classifier_predications))\n"
      ]
    },
    {
      "cell_type": "code",
      "source": [
        "from sklearn.metrics import confusion_matrix\n",
        "import matplotlib.pyplot as plt\n",
        "import seaborn as sns\n",
        "def plot_confusion_matrix(test_y, predict_y):\n",
        "    C = confusion_matrix(test_y, predict_y)\n",
        "    \n",
        "    A =(((C.T)/(C.sum(axis=1))).T)\n",
        "    \n",
        "    B =(C/C.sum(axis=0))\n",
        "    plt.figure(figsize=(20,4))\n",
        "    \n",
        "    labels = [0,1]\n",
        "    # representing A in heatmap format\n",
        "    cmap=sns.light_palette(\"green\")\n",
        "    plt.subplot(1, 3, 1)\n",
        "    sns.heatmap(C, annot=True, cmap=cmap, fmt=\".3f\", xticklabels=labels, yticklabels=labels)\n",
        "    plt.xlabel('Predicted Class')\n",
        "    plt.ylabel('Original Class')\n",
        "    plt.title(\"Confusion matrix\")\n",
        "    \n",
        "    plt.show()\n",
        "\n",
        "print('Test confusion_matrix')\n",
        "plot_confusion_matrix(y_test,classifier_predications)\n"
      ],
      "metadata": {
        "id": "izZtHqwm4mUG",
        "colab": {
          "base_uri": "https://localhost:8080/",
          "height": 347
        },
        "outputId": "de52b67a-8431-4ecd-e951-a797dbefd771"
      },
      "execution_count": null,
      "outputs": [
        {
          "output_type": "stream",
          "name": "stdout",
          "text": [
            "Test confusion_matrix\n"
          ]
        },
        {
          "output_type": "stream",
          "name": "stderr",
          "text": [
            "/usr/local/lib/python3.7/dist-packages/ipykernel_launcher.py:9: RuntimeWarning: invalid value encountered in true_divide\n",
            "  if __name__ == '__main__':\n"
          ]
        },
        {
          "output_type": "display_data",
          "data": {
            "text/plain": [
              "<Figure size 1440x288 with 2 Axes>"
            ],
            "image/png": "[encoded data removed]"
          },
          "metadata": {
            "needs_background": "light"
          }
        }
      ]
    },
    {
      "cell_type": "markdown",
      "metadata": {
        "id": "PcTZQ6lXJyO5"
      },
      "source": [
        "### 4. Logistic Regression"
      ]
    },
    {
      "cell_type": "code",
      "execution_count": null,
      "metadata": {
        "id": "9XO15zLrJtE6"
      },
      "outputs": [],
      "source": [
        "from sklearn.preprocessing import StandardScaler\n",
        "sc_x = StandardScaler()\n",
        "x_train = sc_x.fit_transform(df_final_train)\n",
        "x_test = sc_x.transform(df_final_test)"
      ]
    },
    {
      "cell_type": "code",
      "execution_count": null,
      "metadata": {
        "id": "DasIWN4zJ2r3"
      },
      "outputs": [],
      "source": [
        "from sklearn.linear_model import LogisticRegression\n",
        "classifier = LogisticRegression(random_state = 0)\n",
        "classifier.fit(x_train, y_train)"
      ]
    },
    {
      "cell_type": "code",
      "execution_count": null,
      "metadata": {
        "id": "xPwLsG8dJ4-9",
        "colab": {
          "base_uri": "https://localhost:8080/"
        },
        "outputId": "c66ceee7-b939-4f1b-cb23-5b1fe1ab5cc4"
      },
      "outputs": [
        {
          "output_type": "stream",
          "name": "stderr",
          "text": [
            "/usr/local/lib/python3.7/dist-packages/sklearn/base.py:444: UserWarning: X has feature names, but LogisticRegression was fitted without feature names\n",
            "  f\"X has feature names, but {self.__class__.__name__} was fitted without\"\n"
          ]
        }
      ],
      "source": [
        "y_pred = classifier.predict(df_final_test)"
      ]
    },
    {
      "cell_type": "code",
      "execution_count": null,
      "metadata": {
        "colab": {
          "base_uri": "https://localhost:8080/"
        },
        "id": "MIV4JgGDJ5n3",
        "outputId": "33cb7fd8-cefd-4cc3-9d1f-c1d6847875e8"
      },
      "outputs": [
        {
          "output_type": "stream",
          "name": "stdout",
          "text": [
            "Accuracy :  0.8886091994037258\n"
          ]
        }
      ],
      "source": [
        "from sklearn.metrics import accuracy_score\n",
        "print (\"Accuracy : \", accuracy_score(y_test, y_pred))\n"
      ]
    },
    {
      "cell_type": "code",
      "source": [
        "from sklearn.metrics import confusion_matrix\n",
        "import matplotlib.pyplot as plt\n",
        "import seaborn as sns\n",
        "def plot_confusion_matrix(test_y, predict_y):\n",
        "    C = confusion_matrix(test_y, predict_y)\n",
        "    \n",
        "    A =(((C.T)/(C.sum(axis=1))).T)\n",
        "    \n",
        "    B =(C/C.sum(axis=0))\n",
        "    plt.figure(figsize=(20,4))\n",
        "    \n",
        "    labels = [0,1]\n",
        "    # representing A in heatmap format\n",
        "    cmap=sns.light_palette(\"green\")\n",
        "    plt.subplot(1, 3, 1)\n",
        "    sns.heatmap(C, annot=True, cmap=cmap, fmt=\".3f\", xticklabels=labels, yticklabels=labels)\n",
        "    plt.xlabel('Predicted Class')\n",
        "    plt.ylabel('Original Class')\n",
        "    plt.title(\"Confusion matrix\")\n",
        "    \n",
        "    plt.show()\n",
        "\n",
        "print('Test confusion_matrix')\n",
        "plot_confusion_matrix(y_test,y_pred)\n"
      ],
      "metadata": {
        "colab": {
          "base_uri": "https://localhost:8080/",
          "height": 313
        },
        "id": "lWOn-0x_4oUo",
        "outputId": "93e12162-5501-41d8-cf47-acccf272279b"
      },
      "execution_count": null,
      "outputs": [
        {
          "output_type": "stream",
          "name": "stdout",
          "text": [
            "Test confusion_matrix\n"
          ]
        },
        {
          "output_type": "display_data",
          "data": {
            "text/plain": [
              "<Figure size 1440x288 with 2 Axes>"
            ],
            "image/png": "[encoded data removed]"
          },
          "metadata": {
            "needs_background": "light"
          }
        }
      ]
    },
    {
      "cell_type": "markdown",
      "metadata": {
        "id": "t5L7ynPeJ_Fj"
      },
      "source": [
        "### 5. LightGBM"
      ]
    },
    {
      "cell_type": "code",
      "execution_count": 49,
      "metadata": {
        "id": "iewBQGnCJ_gG"
      },
      "outputs": [],
      "source": [
        "import lightgbm as lgb\n",
        "from sklearn import metrics\n"
      ]
    },
    {
      "cell_type": "code",
      "execution_count": 50,
      "metadata": {
        "colab": {
          "base_uri": "https://localhost:8080/"
        },
        "id": "BuTbX6eaKCDd",
        "outputId": "566512b7-2d4c-4891-d200-b48df24966f3"
      },
      "outputs": [
        {
          "output_type": "stream",
          "name": "stdout",
          "text": [
            "[20]\ttraining's binary_logloss: 0.0956444\ttraining's binary_logloss: 0.0956444\tvalid_0's binary_logloss: 0.0945765\tvalid_0's binary_logloss: 0.0945765\n",
            "[40]\ttraining's binary_logloss: 0.0742419\ttraining's binary_logloss: 0.0742419\tvalid_0's binary_logloss: 0.0739308\tvalid_0's binary_logloss: 0.0739308\n",
            "[60]\ttraining's binary_logloss: 0.0680745\ttraining's binary_logloss: 0.0680745\tvalid_0's binary_logloss: 0.0684638\tvalid_0's binary_logloss: 0.0684638\n",
            "[80]\ttraining's binary_logloss: 0.0651467\ttraining's binary_logloss: 0.0651467\tvalid_0's binary_logloss: 0.0664016\tvalid_0's binary_logloss: 0.0664016\n",
            "[100]\ttraining's binary_logloss: 0.0632061\ttraining's binary_logloss: 0.0632061\tvalid_0's binary_logloss: 0.0651178\tvalid_0's binary_logloss: 0.0651178\n"
          ]
        }
      ],
      "source": [
        "model = lgb.LGBMClassifier(learning_rate=0.09,max_depth=-5,random_state=42)\n",
        "y_test_pred=model.fit(df_final_train,y_train,eval_set=[(df_final_test,y_test),(df_final_train,y_train)],\n",
        "          verbose=20,eval_metric='logloss')"
      ]
    },
    {
      "cell_type": "code",
      "execution_count": 51,
      "metadata": {
        "colab": {
          "base_uri": "https://localhost:8080/"
        },
        "id": "w9rOLk_cKC2Y",
        "outputId": "af914ffa-b2d5-41c0-e64b-7132c1513019"
      },
      "outputs": [
        {
          "output_type": "stream",
          "name": "stdout",
          "text": [
            "Training accuracy 0.9704\n",
            "Testing accuracy 0.9701\n"
          ]
        }
      ],
      "source": [
        "print('Training accuracy {:.4f}'.format(model.score(df_final_train,y_train)))\n",
        "print('Testing accuracy {:.4f}'.format(model.score(df_final_test,y_test)))\n"
      ]
    },
    {
      "cell_type": "code",
      "source": [
        "y_pred = model.predict(df_final_test)"
      ],
      "metadata": {
        "id": "T6fwm2wHEj70"
      },
      "execution_count": 53,
      "outputs": []
    },
    {
      "cell_type": "code",
      "source": [
        "from sklearn.metrics import confusion_matrix\n",
        "import matplotlib.pyplot as plt\n",
        "import seaborn as sns\n",
        "def plot_confusion_matrix(test_y, predict_y):\n",
        "    C = confusion_matrix(test_y, predict_y)\n",
        "    \n",
        "    A =(((C.T)/(C.sum(axis=1))).T)\n",
        "    \n",
        "    B =(C/C.sum(axis=0))\n",
        "    plt.figure(figsize=(20,4))\n",
        "    \n",
        "    labels = [0,1]\n",
        "    # representing A in heatmap format\n",
        "    cmap=sns.light_palette(\"green\")\n",
        "    plt.subplot(1, 3, 1)\n",
        "    sns.heatmap(C, annot=True, cmap=cmap, fmt=\".3f\", xticklabels=labels, yticklabels=labels)\n",
        "    plt.xlabel('Predicted Class')\n",
        "    plt.ylabel('Original Class')\n",
        "    plt.title(\"Confusion matrix\")\n",
        "    \n",
        "    plt.show()\n",
        "\n",
        "print('Test confusion_matrix')\n",
        "plot_confusion_matrix(y_test,y_pred)\n"
      ],
      "metadata": {
        "id": "nLrizPyQbFd8",
        "colab": {
          "base_uri": "https://localhost:8080/",
          "height": 313
        },
        "outputId": "1d6bdb97-7eea-4627-ddcf-b1fd57984e36"
      },
      "execution_count": 54,
      "outputs": [
        {
          "output_type": "stream",
          "name": "stdout",
          "text": [
            "Test confusion_matrix\n"
          ]
        },
        {
          "output_type": "display_data",
          "data": {
            "text/plain": [
              "<Figure size 1440x288 with 2 Axes>"
            ],
            "image/png": "[encoded data removed]"
          },
          "metadata": {
            "needs_background": "light"
          }
        }
      ]
    },
    {
      "cell_type": "markdown",
      "source": [
        "## 6. Analysis"
      ],
      "metadata": {
        "id": "HtQJiO4QMhMf"
      }
    },
    {
      "cell_type": "code",
      "source": [
        "\n",
        "import pandas as pd\n",
        "import matplotlib.pyplot as plt\n",
        "\n",
        "\n",
        "  \n",
        "data = [['LR', 83.7, 88.8],\n",
        "        ['KNN', 92.1, 95.8],\n",
        "        ['SVM', 84.5, 90.8],\n",
        "        ['RF', 94.3, 97.1],\n",
        "        ['LGBM', 95.0, 97.7]]\n",
        "\n",
        "df = pd.DataFrame(data, columns = ['Ml Algorithm','Advogato','Epinion'] )\n",
        "  \n",
        "df.plot.bar()\n",
        "  \n",
        "# plot between 2 attributes\n",
        "plt.bar(df['Advogato'], df['Epinion'])\n",
        "plt.xlabel(\"Algorithms\")\n",
        "plt.ylabel(\"Accuracy\")\n",
        "plt.yticks( range(0,100,5) )   \n",
        "f = plt.figure()\n",
        "f.set_figwidth(5)\n",
        "f.set_figheight(2)\n",
        "\n",
        "f.show()"
      ],
      "metadata": {
        "id": "eZZspg49Mg2Z",
        "colab": {
          "base_uri": "https://localhost:8080/",
          "height": 295
        },
        "outputId": "c9fb2515-252b-4831-b54e-54bd0d026341"
      },
      "execution_count": null,
      "outputs": [
        {
          "output_type": "display_data",
          "data": {
            "text/plain": [
              "<Figure size 432x288 with 1 Axes>"
            ],
            "image/png": "[encoded data removed]"
          },
          "metadata": {
            "needs_background": "light"
          }
        },
        {
          "output_type": "display_data",
          "data": {
            "text/plain": [
              "<Figure size 360x144 with 0 Axes>"
            ]
          },
          "metadata": {}
        }
      ]
    }
  ],
  "metadata": {
    "accelerator": "TPU",
    "colab": {
      "collapsed_sections": [],
      "name": "epinion trust classification",
      "provenance": []
    },
    "kernelspec": {
      "display_name": "Python 3",
      "name": "python3"
    },
    "language_info": {
      "name": "python"
    }
  },
  "nbformat": 4,
  "nbformat_minor": 0
}
{
  "cells": [
    {
      "cell_type": "markdown",
      "source": [
        "# Trust Prediction in online social networks using machine learning techniques"
      ],
      "metadata": {
        "id": "NVJqzCoce_eg"
      }
    },
    {
      "cell_type": "markdown",
      "metadata": {
        "id": "0Ioas-tWkY7o"
      },
      "source": [
        "## 1. Load Data"
      ]
    },
    {
      "cell_type": "code",
      "execution_count": null,
      "metadata": {
        "id": "Jitc2gKWiqwY"
      },
      "outputs": [],
      "source": [
        "import csv\n",
        "import pandas as pd\n",
        "\n",
        "df=pd.read_csv('/content/advogato_train.csv')\n"
      ]
    },
    {
      "cell_type": "code",
      "source": [
        "df.columns=['node1','node2']\n",
        "df.head()"
      ],
      "metadata": {
        "colab": {
          "base_uri": "https://localhost:8080/",
          "height": 206
        },
        "id": "fatdIgW8R-MY",
        "outputId": "8d140846-35b5-4563-f7da-d240dc02a1b5"
      },
      "execution_count": null,
      "outputs": [
        {
          "output_type": "execute_result",
          "data": {
            "text/plain": [
              "   node1  node2\n",
              "0      1      2\n",
              "1      1      3\n",
              "2      1      4\n",
              "3      1      5\n",
              "4      1      6"
            ],
            "text/html": [
              "\n",
              "  <div id=\"df-1f143d53-1db7-40d7-b535-3d755d46841e\">\n",
              "    <div class=\"colab-df-container\">\n",
              "      <div>\n",
              "<style scoped>\n",
              "    .dataframe tbody tr th:only-of-type {\n",
              "        vertical-align: middle;\n",
              "    }\n",
              "\n",
              "    .dataframe tbody tr th {\n",
              "        vertical-align: top;\n",
              "    }\n",
              "\n",
              "    .dataframe thead th {\n",
              "        text-align: right;\n",
              "    }\n",
              "</style>\n",
              "<table border=\"1\" class=\"dataframe\">\n",
              "  <thead>\n",
              "    <tr style=\"text-align: right;\">\n",
              "      <th></th>\n",
              "      <th>node1</th>\n",
              "      <th>node2</th>\n",
              "    </tr>\n",
              "  </thead>\n",
              "  <tbody>\n",
              "    <tr>\n",
              "      <th>0</th>\n",
              "      <td>1</td>\n",
              "      <td>2</td>\n",
              "    </tr>\n",
              "    <tr>\n",
              "      <th>1</th>\n",
              "      <td>1</td>\n",
              "      <td>3</td>\n",
              "    </tr>\n",
              "    <tr>\n",
              "      <th>2</th>\n",
              "      <td>1</td>\n",
              "      <td>4</td>\n",
              "    </tr>\n",
              "    <tr>\n",
              "      <th>3</th>\n",
              "      <td>1</td>\n",
              "      <td>5</td>\n",
              "    </tr>\n",
              "    <tr>\n",
              "      <th>4</th>\n",
              "      <td>1</td>\n",
              "      <td>6</td>\n",
              "    </tr>\n",
              "  </tbody>\n",
              "</table>\n",
              "</div>\n",
              "      <button class=\"colab-df-convert\" onclick=\"convertToInteractive('df-1f143d53-1db7-40d7-b535-3d755d46841e')\"\n",
              "              title=\"Convert this dataframe to an interactive table.\"\n",
              "              style=\"display:none;\">\n",
              "        \n",
              "  <svg xmlns=\"http://www.w3.org/2000/svg\" height=\"24px\"viewBox=\"0 0 24 24\"\n",
              "       width=\"24px\">\n",
              "    <path d=\"M0 0h24v24H0V0z\" fill=\"none\"/>\n",
              "    <path d=\"M18.56 5.44l.94 2.06.94-2.06 2.06-.94-2.06-.94-.94-2.06-.94 2.06-2.06.94zm-11 1L8.5 8.5l.94-2.06 2.06-.94-2.06-.94L8.5 2.5l-.94 2.06-2.06.94zm10 10l.94 2.06.94-2.06 2.06-.94-2.06-.94-.94-2.06-.94 2.06-2.06.94z\"/><path d=\"M17.41 7.96l-1.37-1.37c-.4-.4-.92-.59-1.43-.59-.52 0-1.04.2-1.43.59L10.3 9.45l-7.72 7.72c-.78.78-.78 2.05 0 2.83L4 21.41c.39.39.9.59 1.41.59.51 0 1.02-.2 1.41-.59l7.78-7.78 2.81-2.81c.8-.78.8-2.07 0-2.86zM5.41 20L4 18.59l7.72-7.72 1.47 1.35L5.41 20z\"/>\n",
              "  </svg>\n",
              "      </button>\n",
              "      \n",
              "  <style>\n",
              "    .colab-df-container {\n",
              "      display:flex;\n",
              "      flex-wrap:wrap;\n",
              "      gap: 12px;\n",
              "    }\n",
              "\n",
              "    .colab-df-convert {\n",
              "      background-color: #E8F0FE;\n",
              "      border: none;\n",
              "      border-radius: 50%;\n",
              "      cursor: pointer;\n",
              "      display: none;\n",
              "      fill: #1967D2;\n",
              "      height: 32px;\n",
              "      padding: 0 0 0 0;\n",
              "      width: 32px;\n",
              "    }\n",
              "\n",
              "    .colab-df-convert:hover {\n",
              "      background-color: #E2EBFA;\n",
              "      box-shadow: 0px 1px 2px rgba(60, 64, 67, 0.3), 0px 1px 3px 1px rgba(60, 64, 67, 0.15);\n",
              "      fill: #174EA6;\n",
              "    }\n",
              "\n",
              "    [theme=dark] .colab-df-convert {\n",
              "      background-color: #3B4455;\n",
              "      fill: #D2E3FC;\n",
              "    }\n",
              "\n",
              "    [theme=dark] .colab-df-convert:hover {\n",
              "      background-color: #434B5C;\n",
              "      box-shadow: 0px 1px 3px 1px rgba(0, 0, 0, 0.15);\n",
              "      filter: drop-shadow(0px 1px 2px rgba(0, 0, 0, 0.3));\n",
              "      fill: #FFFFFF;\n",
              "    }\n",
              "  </style>\n",
              "\n",
              "      <script>\n",
              "        const buttonEl =\n",
              "          document.querySelector('#df-1f143d53-1db7-40d7-b535-3d755d46841e button.colab-df-convert');\n",
              "        buttonEl.style.display =\n",
              "          google.colab.kernel.accessAllowed ? 'block' : 'none';\n",
              "\n",
              "        async function convertToInteractive(key) {\n",
              "          const element = document.querySelector('#df-1f143d53-1db7-40d7-b535-3d755d46841e');\n",
              "          const dataTable =\n",
              "            await google.colab.kernel.invokeFunction('convertToInteractive',\n",
              "                                                     [key], {});\n",
              "          if (!dataTable) return;\n",
              "\n",
              "          const docLinkHtml = 'Like what you see? Visit the ' +\n",
              "            '<a target=\"_blank\" href=https://colab.research.google.com/notebooks/data_table.ipynb>data table notebook</a>'\n",
              "            + ' to learn more about interactive tables.';\n",
              "          element.innerHTML = '';\n",
              "          dataTable['output_type'] = 'display_data';\n",
              "          await google.colab.output.renderOutput(dataTable, element);\n",
              "          const docLink = document.createElement('div');\n",
              "          docLink.innerHTML = docLinkHtml;\n",
              "          element.appendChild(docLink);\n",
              "        }\n",
              "      </script>\n",
              "    </div>\n",
              "  </div>\n",
              "  "
            ]
          },
          "metadata": {},
          "execution_count": 2
        }
      ]
    },
    {
      "cell_type": "markdown",
      "metadata": {
        "id": "ZPxYqK1Dkbt9"
      },
      "source": [
        "Checking the data for any missing rows/ duplicates\n"
      ]
    },
    {
      "cell_type": "code",
      "execution_count": null,
      "metadata": {
        "colab": {
          "base_uri": "https://localhost:8080/"
        },
        "id": "1rc9F0eckXyO",
        "outputId": "ab564e1f-ed91-4d2f-f353-a4df7031f5d6"
      },
      "outputs": [
        {
          "output_type": "execute_result",
          "data": {
            "text/plain": [
              "0"
            ]
          },
          "metadata": {},
          "execution_count": 3
        }
      ],
      "source": [
        "sum(df.isna().any(1))\n"
      ]
    },
    {
      "cell_type": "code",
      "execution_count": null,
      "metadata": {
        "colab": {
          "base_uri": "https://localhost:8080/"
        },
        "id": "lOFw2YkgkkBm",
        "outputId": "be708464-4b4f-405f-9c95-b99f26932176"
      },
      "outputs": [
        {
          "output_type": "execute_result",
          "data": {
            "text/plain": [
              "15"
            ]
          },
          "metadata": {},
          "execution_count": 4
        }
      ],
      "source": [
        "sum(df.duplicated())\n"
      ]
    },
    {
      "cell_type": "code",
      "execution_count": null,
      "metadata": {
        "colab": {
          "base_uri": "https://localhost:8080/"
        },
        "id": "ocOxSQ2VlA6M",
        "outputId": "47a1660d-f9e0-4dbf-d254-1212d241cf3d"
      },
      "outputs": [
        {
          "output_type": "execute_result",
          "data": {
            "text/plain": [
              "0"
            ]
          },
          "metadata": {},
          "execution_count": 5
        }
      ],
      "source": [
        "df.drop_duplicates(keep = False, inplace = True)\n",
        "sum(df.duplicated())\n"
      ]
    },
    {
      "cell_type": "markdown",
      "source": [
        "Graph Details"
      ],
      "metadata": {
        "id": "3p1tzTetfo3c"
      }
    },
    {
      "cell_type": "code",
      "execution_count": null,
      "metadata": {
        "colab": {
          "base_uri": "https://localhost:8080/"
        },
        "id": "CdggtvHplS8L",
        "outputId": "b7c10601-d7ae-44f1-9e31-b29068db5cb7"
      },
      "outputs": [
        {
          "output_type": "stream",
          "name": "stdout",
          "text": [
            "DiGraph with 6551 nodes and 51301 edges\n"
          ]
        }
      ],
      "source": [
        "import networkx as nx\n",
        "df.to_csv('/content/advogato_train.csv',header=False,index=False)\n",
        "#storing the list of edges in a varible \n",
        "g=nx.read_edgelist('/content/advogato_train.csv',delimiter=',',create_using=nx.DiGraph(),nodetype=int)\n",
        "#printing the information of graph\n",
        "print(nx.info(g))"
      ]
    },
    {
      "cell_type": "markdown",
      "metadata": {
        "id": "5cppO3F-l2i8"
      },
      "source": [
        "## 2. Data Visualisation"
      ]
    },
    {
      "cell_type": "code",
      "execution_count": null,
      "metadata": {
        "colab": {
          "base_uri": "https://localhost:8080/",
          "height": 336
        },
        "id": "80quoLEtmASw",
        "outputId": "be20a4ef-229d-4ca7-f199-71737292fb1c"
      },
      "outputs": [
        {
          "output_type": "stream",
          "name": "stdout",
          "text": [
            "DiGraph with 6551 nodes and 51301 edges\n"
          ]
        },
        {
          "output_type": "display_data",
          "data": {
            "text/plain": [
              "<Figure size 432x288 with 1 Axes>"
            ],
            "image/png": "[encoded data removed]"
          },
          "metadata": {}
        }
      ],
      "source": [
        "import matplotlib.pyplot as plt\n",
        "#creating a sample of 50 data points\n",
        "pd.read_csv('/content/advogato_train.csv',nrows=50)\n",
        "#reading the edgelist in a variable using networkX\n",
        "subgraph=nx.read_edgelist('/content/advogato_train.csv',delimiter=',',create_using=nx.DiGraph(),nodetype=int)\n",
        "#plotting the graph\n",
        "pos=nx.spring_layout(subgraph)\n",
        "nx.draw(subgraph,pos,node_color='#A0CBE2',edge_color='#00bb5e',width=1,edge_cmap=plt.cm.Blues,with_labels=True)\n",
        "plt.savefig(\"graph_sample.pdf\")\n",
        "print(nx.info(subgraph))\n"
      ]
    },
    {
      "cell_type": "markdown",
      "metadata": {
        "id": "RlPQcI1LsZPO"
      },
      "source": [
        "## 3. Data Preparation"
      ]
    },
    {
      "cell_type": "code",
      "execution_count": null,
      "metadata": {
        "id": "tEQ8LHL1q89P"
      },
      "outputs": [],
      "source": [
        "import random\n",
        "r = csv.reader(open('/content/advogato_train.csv','r'))\n",
        "edges = dict()\n",
        "for edge in r:\n",
        "\tedges[(edge[0], edge[1])] = 1\n",
        "    \n",
        "missing_edges = set([])\n",
        "while (len(missing_edges)<51301):\n",
        "\ta=random.randint(1, 6551)\n",
        "\tb=random.randint(1, 6551)\n",
        "\ttmp = edges.get((a,b),-1)\n",
        "\tif tmp == -1 and a!=b:\n",
        "\t\ttry:\n",
        "\t\t\tif nx.shortest_path_length(g,source=a,target=b) > 2: \n",
        "\n",
        "\t\t\t\tmissing_edges.add((a,b))\n",
        "\t\t\telse:\n",
        "\t\t\t\tcontinue  \n",
        "\t\texcept:  \n",
        "\t\t\t\tmissing_edges.add((a,b))              \n",
        "\telse:\n",
        "\t\tcontinue"
      ]
    },
    {
      "cell_type": "code",
      "execution_count": null,
      "metadata": {
        "id": "8wsPulUUur6a"
      },
      "outputs": [],
      "source": [
        "import pickle\n",
        "pickle.dump(missing_edges,open('missing_edges_final.p','wb'))"
      ]
    },
    {
      "cell_type": "code",
      "execution_count": null,
      "metadata": {
        "colab": {
          "base_uri": "https://localhost:8080/"
        },
        "id": "yRpiRU_3wDG1",
        "outputId": "5b35659a-9107-4b62-ab8f-68462e38e155"
      },
      "outputs": [
        {
          "output_type": "stream",
          "name": "stdout",
          "text": [
            "Number of nodes in the graph with edges 51300\n",
            "Number of nodes in the graph without edges 51301\n",
            "============================================================\n",
            "Number of nodes in the train data graph with edges 41040 = 41040\n",
            "Number of nodes in the train data graph without edges 41040 = 41040\n",
            "============================================================\n",
            "Number of nodes in the test data graph with edges 10260 = 10260\n",
            "Number of nodes in the test data graph without edges 10261 = 10261\n"
          ]
        }
      ],
      "source": [
        "from sklearn import model_selection\n",
        "import numpy as np\n",
        "\n",
        "df_pos = pd.read_csv('/content/advogato_train.csv')\n",
        "df_neg = pd.DataFrame(list(missing_edges), columns=['source_node', 'destination_node'])\n",
        "print(\"Number of nodes in the graph with edges\", df_pos.shape[0])\n",
        "print(\"Number of nodes in the graph without edges\", df_neg.shape[0])\n",
        "#Trian test split \n",
        "#Spiltted data into 80-20 \n",
        "#positive links and negative links seperatly because we need positive training data only for creating graph \n",
        "#and for feature generation\n",
        "X_train_pos, X_test_pos, y_train_pos, y_test_pos  = model_selection.train_test_split(df_pos,np.ones(len(df_pos)),test_size=0.2, random_state=9)\n",
        "X_train_neg, X_test_neg, y_train_neg, y_test_neg  = model_selection.train_test_split(df_neg,np.zeros(len(df_neg)),test_size=0.2, random_state=9)\n",
        "print('='*60)\n",
        "print(\"Number of nodes in the train data graph with edges\", X_train_pos.shape[0],\"=\",y_train_pos.shape[0])\n",
        "print(\"Number of nodes in the train data graph without edges\", X_train_neg.shape[0],\"=\", y_train_neg.shape[0])\n",
        "print('='*60)\n",
        "print(\"Number of nodes in the test data graph with edges\", X_test_pos.shape[0],\"=\",y_test_pos.shape[0])\n",
        "print(\"Number of nodes in the test data graph without edges\", X_test_neg.shape[0],\"=\",y_test_neg.shape[0])\n",
        "#removing header and saving\n",
        "X_train_pos.to_csv('train_pos.csv',header=False, index=False)\n",
        "X_test_pos.to_csv('test_pos.csv',header=False, index=False)\n",
        "X_train_neg.to_csv('train_neg.csv',header=False, index=False)\n",
        "X_test_neg.to_csv('test_neg.csv',header=False, index=False)"
      ]
    },
    {
      "cell_type": "code",
      "execution_count": null,
      "metadata": {
        "id": "IezJbPWXxbQI"
      },
      "outputs": [],
      "source": [
        "import os\n",
        "\n",
        "if (os.path.isfile('train_pos.csv')) and (os.path.isfile('test_pos_after.csv')):        \n",
        "    train_graph=nx.read_edgelist('train_pos.csv',delimiter=',',create_using=nx.DiGraph(),nodetype=int)\n",
        "    test_graph=nx.read_edgelist('test_pos.csv',delimiter=',',create_using=nx.DiGraph(),nodetype=int)\n",
        "    print(nx.info(train_graph))\n",
        "    print(nx.info(test_graph))\n",
        "\n",
        "    # finding the unique nodes in the both train and test graphs\n",
        "    train_nodes_pos = set(train_graph.nodes())\n",
        "    test_nodes_pos = set(test_graph.nodes())\n",
        "\n",
        "    ttpi= len(train_nodes_pos.intersection(test_nodes_pos))\n",
        "    ttpd = len(train_nodes_pos - test_nodes_pos)\n",
        "    dptt = len(test_nodes_pos - train_nodes_pos)\n",
        "\n",
        "    print('no of people common in train and test -- ',ttpi)\n",
        "    print('no of people present in train but not present in test -- ',ttpd)\n",
        "\n",
        "    print('no of people present in test but not present in train -- ',dptt)\n",
        "    print(' % of people not there in Train but exist in Test in total Test data are {} %'.format(dptt/len(test_nodes_pos)*100))"
      ]
    },
    {
      "cell_type": "code",
      "execution_count": null,
      "metadata": {
        "id": "HiVIntMLxsoY",
        "colab": {
          "base_uri": "https://localhost:8080/"
        },
        "outputId": "e9cce235-4bde-49c1-cc05-f9d9337034f2"
      },
      "outputs": [
        {
          "output_type": "stream",
          "name": "stdout",
          "text": [
            "============================================================\n",
            "Number of nodes in the train data graph with edges 41040\n",
            "Number of nodes in the train data graph without edges 41040\n",
            "============================================================\n",
            "Number of nodes in the test data graph with edges 10260\n",
            "Number of nodes in the test data graph without edges 10261\n"
          ]
        }
      ],
      "source": [
        "if (not os.path.isfile('train.csv')) and \\\n",
        "(not os.path.isfile('test.csv')) and \\\n",
        "(not os.path.isfile('train_y.csv')) and \\\n",
        "(not os.path.isfile('test_y.csv')) and \\\n",
        "(os.path.isfile('train_pos.csv')) and \\\n",
        "(os.path.isfile('test_pos.csv')) and \\\n",
        "(os.path.isfile('train_neg.csv')) and \\\n",
        "(os.path.isfile('test_neg.csv')):\n",
        "    \n",
        "    X_train_pos = pd.read_csv('train_pos.csv', names=['source_node', 'destination_node'])\n",
        "    X_test_pos = pd.read_csv('test_pos.csv', names=['source_node', 'destination_node'])\n",
        "    X_train_neg = pd.read_csv('train_neg.csv', names=['source_node', 'destination_node'])\n",
        "    X_test_neg = pd.read_csv('test_neg.csv', names=['source_node', 'destination_node'])\n",
        "\n",
        "    print('='*60)\n",
        "    print(\"Number of nodes in the train data graph with edges\", X_train_pos.shape[0])\n",
        "    print(\"Number of nodes in the train data graph without edges\", X_train_neg.shape[0])\n",
        "    print('='*60)\n",
        "    print(\"Number of nodes in the test data graph with edges\", X_test_pos.shape[0])\n",
        "    print(\"Number of nodes in the test data graph without edges\", X_test_neg.shape[0])\n",
        "\n",
        "    X_train = X_train_pos.append(X_train_neg,ignore_index=True)\n",
        "    y_train = np.concatenate((y_train_pos,y_train_neg))\n",
        "    X_test = X_test_pos.append(X_test_neg,ignore_index=True)\n",
        "    y_test = np.concatenate((y_test_pos,y_test_neg)) \n",
        "    X_train.to_csv('train.csv',header=False,index=False)\n",
        "    X_test.to_csv('test.csv',header=False,index=False)\n",
        "    pd.DataFrame(y_train.astype(int)).to_csv('train_y.csv',header=False,index=False)\n",
        "    pd.DataFrame(y_test.astype(int)).to_csv('test_y.csv',header=False,index=False)\n"
      ]
    },
    {
      "cell_type": "markdown",
      "source": [
        "## 4. Featurisarisation"
      ],
      "metadata": {
        "id": "Y_ESlVC3h6qS"
      }
    },
    {
      "cell_type": "markdown",
      "source": [
        "### 4.1 Jaccard index"
      ],
      "metadata": {
        "id": "l9q2zwjTim-V"
      }
    },
    {
      "cell_type": "code",
      "execution_count": null,
      "metadata": {
        "id": "O-HWjbn1x7Cs"
      },
      "outputs": [],
      "source": [
        "def jaccard_for_followees(a,b):\n",
        "    try:\n",
        "        if len(set(g.successors(a))) == 0  | len(set(g.successors(b))) == 0:\n",
        "            return 0\n",
        "        sim = (len(set(g.successors(a)).intersection(set(g.successors(b)))))/\\\n",
        "                                    (len(set(g.successors(a)).union(set(g.successors(b)))))\n",
        "    except:\n",
        "        return 0\n",
        "    return sim"
      ]
    },
    {
      "cell_type": "code",
      "source": [
        "jaccard_for_followees(1,4)"
      ],
      "metadata": {
        "colab": {
          "base_uri": "https://localhost:8080/"
        },
        "id": "u06DtGUaXyGB",
        "outputId": "f5796dc0-3462-443d-b96a-54c3c7d853ac"
      },
      "execution_count": null,
      "outputs": [
        {
          "output_type": "execute_result",
          "data": {
            "text/plain": [
              "0.06896551724137931"
            ]
          },
          "metadata": {},
          "execution_count": 250
        }
      ]
    },
    {
      "cell_type": "code",
      "source": [
        "def jaccard_for_followers(a,b):\n",
        "    try:\n",
        "        if len(set(g.predecessors(a))) == 0  | len(set(g.predecessors(b))) == 0:\n",
        "            return 0\n",
        "        sim = (len(set(g.predecessors(a)).intersection(set(g.predecessors(b)))))/\\\n",
        "                                 (len(set(g.predecessors(a)).union(set(g.predecessors(b)))))\n",
        "        return sim\n",
        "    except:\n",
        "        return 0"
      ],
      "metadata": {
        "id": "2tXegi80iQ4B"
      },
      "execution_count": null,
      "outputs": []
    },
    {
      "cell_type": "code",
      "source": [
        "jaccard_for_followers(1,3)"
      ],
      "metadata": {
        "colab": {
          "base_uri": "https://localhost:8080/"
        },
        "id": "2Qsxd16SX6yD",
        "outputId": "cf0d9e92-19cf-4a40-ff28-c445c65f61c3"
      },
      "execution_count": null,
      "outputs": [
        {
          "output_type": "execute_result",
          "data": {
            "text/plain": [
              "0.2631578947368421"
            ]
          },
          "metadata": {},
          "execution_count": 252
        }
      ]
    },
    {
      "cell_type": "markdown",
      "source": [
        "### 4.2 Cosine Similarity"
      ],
      "metadata": {
        "id": "vAi4mLbqiqvq"
      }
    },
    {
      "cell_type": "code",
      "execution_count": null,
      "metadata": {
        "id": "_N95eCJUx_kz"
      },
      "outputs": [],
      "source": [
        "import math\n",
        "def cosine_for_followees(a,b):\n",
        "    try:\n",
        "        if len(set(g.successors(a))) == 0  | len(set(g.successors(b))) == 0:\n",
        "            return 0\n",
        "        sim = (len(set(g.successors(a)).intersection(set(g.successors(b))))) /\\\n",
        "                                    (math.sqrt(len(set(g.successors(a)))*len((set(g.successors(b))))))\n",
        "        return sim\n",
        "    except:\n",
        "        return 0"
      ]
    },
    {
      "cell_type": "code",
      "source": [
        "cosine_for_followees(1,3)"
      ],
      "metadata": {
        "id": "SOlLGYmLiV5m",
        "colab": {
          "base_uri": "https://localhost:8080/"
        },
        "outputId": "4e74bd01-2043-4033-eb14-ae6c078f2467"
      },
      "execution_count": null,
      "outputs": [
        {
          "output_type": "execute_result",
          "data": {
            "text/plain": [
              "0.35355339059327373"
            ]
          },
          "metadata": {},
          "execution_count": 254
        }
      ]
    },
    {
      "cell_type": "code",
      "source": [
        "import math\n",
        "def cosine_for_followers(a,b):\n",
        "    try:\n",
        "        \n",
        "        if len(set(g.predecessors(a))) == 0  | len(set(g.predecessors(b))) == 0:\n",
        "            return 0\n",
        "        sim = (len(set(g.predecessors(a)).intersection(set(g.predecessors(b)))))/\\\n",
        "                                     (math.sqrt(len(set(g.predecessors(a))))*(len(set(g.predecessors(b)))))\n",
        "        return sim\n",
        "    except:\n",
        "        return 0\n"
      ],
      "metadata": {
        "id": "Ny6QMIdZYDuu"
      },
      "execution_count": null,
      "outputs": []
    },
    {
      "cell_type": "code",
      "source": [
        "cosine_for_followers(1,4)"
      ],
      "metadata": {
        "colab": {
          "base_uri": "https://localhost:8080/"
        },
        "id": "VXhK8gCzYJJN",
        "outputId": "616714f4-cc5f-4e0c-bfee-9791d97cadb3"
      },
      "execution_count": null,
      "outputs": [
        {
          "output_type": "execute_result",
          "data": {
            "text/plain": [
              "0.02672612419124244"
            ]
          },
          "metadata": {},
          "execution_count": 256
        }
      ]
    },
    {
      "cell_type": "markdown",
      "source": [
        "### 4.3 Adamic-Adar Index"
      ],
      "metadata": {
        "id": "iVQ7LYJjiuTK"
      }
    },
    {
      "cell_type": "code",
      "execution_count": null,
      "metadata": {
        "id": "Zci_t4uJyFdU"
      },
      "outputs": [],
      "source": [
        "#adar index\n",
        "def calc_adar_in(a,b):\n",
        "    sum=0\n",
        "    try:\n",
        "        n=list(set(g.successors(a)).intersection(set(g.successors(b))))\n",
        "        if len(n)!=0:\n",
        "            for i in n:\n",
        "                sum=sum+(1/np.log10(len(list(g.predecessors(i)))))\n",
        "            return sum\n",
        "        else:\n",
        "            return 0\n",
        "    except:\n",
        "        return 0"
      ]
    },
    {
      "cell_type": "code",
      "source": [
        "calc_adar_in(1,5)"
      ],
      "metadata": {
        "colab": {
          "base_uri": "https://localhost:8080/"
        },
        "id": "cmq1gJOgYNfk",
        "outputId": "69ed6dd3-5bfd-4ddd-cb2e-729a9efe0ed5"
      },
      "execution_count": null,
      "outputs": [
        {
          "output_type": "execute_result",
          "data": {
            "text/plain": [
              "0.6200458888731156"
            ]
          },
          "metadata": {},
          "execution_count": 259
        }
      ]
    },
    {
      "cell_type": "markdown",
      "source": [
        "### 4.4 Hub Promoted Index"
      ],
      "metadata": {
        "id": "O_ZpdfNvi1d5"
      }
    },
    {
      "cell_type": "code",
      "execution_count": null,
      "metadata": {
        "id": "7bsz6iFM0xJ6"
      },
      "outputs": [],
      "source": [
        "def calc_hub_promoted_followees(a,b):\n",
        "    try:\n",
        "        if len(set(g.successors(a))) == 0  | len(set(g.successors(b))) == 0:\n",
        "            return 0\n",
        "        x=(len(set(g.successors(a))))\n",
        "        y=(len(set(g.successors(b))))\n",
        "        sim = (len(set(g.successors(a)).intersection(set(g.successors(b)))))/\\\n",
        "                                 min(x,y)\n",
        "        return sim\n",
        "    except:\n",
        "        return 0"
      ]
    },
    {
      "cell_type": "code",
      "source": [
        "calc_hub_promoted_followees(1,2)"
      ],
      "metadata": {
        "colab": {
          "base_uri": "https://localhost:8080/"
        },
        "id": "D7BuJbSBYa6y",
        "outputId": "a53a4208-f0ca-457a-8d41-6d447f673909"
      },
      "execution_count": null,
      "outputs": [
        {
          "output_type": "execute_result",
          "data": {
            "text/plain": [
              "0.6666666666666666"
            ]
          },
          "metadata": {},
          "execution_count": 261
        }
      ]
    },
    {
      "cell_type": "code",
      "source": [
        "def calc_hub_promoted_followers(a,b):\n",
        "    try:\n",
        "        if len(set(g.predecessors(a))) == 0  | len(set(g.predecessors(b))) == 0:\n",
        "            return 0\n",
        "        x=(len(set(g.predecessors(a))))\n",
        "        y=(len(set(g.predecessors(b))))\n",
        "        sim = (len(set(g.predecessors(a)).intersection(set(g.predecessors(b)))))/\\\n",
        "                                 min(x,y)\n",
        "        return sim\n",
        "    except:\n",
        "        return 0"
      ],
      "metadata": {
        "id": "MZ8cJcRrZJTB"
      },
      "execution_count": null,
      "outputs": []
    },
    {
      "cell_type": "code",
      "source": [
        "calc_hub_promoted_followers(1,5)"
      ],
      "metadata": {
        "colab": {
          "base_uri": "https://localhost:8080/"
        },
        "id": "99LBhp8uYg-C",
        "outputId": "ecec63d1-8501-4857-ebfe-90fb4f46084e"
      },
      "execution_count": null,
      "outputs": [
        {
          "output_type": "execute_result",
          "data": {
            "text/plain": [
              "0.14285714285714285"
            ]
          },
          "metadata": {},
          "execution_count": 263
        }
      ]
    },
    {
      "cell_type": "markdown",
      "source": [
        "### 4.5 Hub Depressed index"
      ],
      "metadata": {
        "id": "KcAvnprsi6b6"
      }
    },
    {
      "cell_type": "code",
      "source": [
        "def calc_hub_depressed_followers(a,b):\n",
        "    try:\n",
        "        if len(set(g.predecessors(a))) == 0  | len(set(g.predecessors(b))) == 0:\n",
        "            return 0\n",
        "        x=(len(set(g.predecessors(a))))\n",
        "        y=(len(set(g.predecessors(b))))\n",
        "        sim = (len(set(g.predecessors(a)).intersection(set(g.predecessors(b)))))/\\\n",
        "                                 max(x,y)\n",
        "        return sim\n",
        "    except:\n",
        "        return 0"
      ],
      "metadata": {
        "id": "SOYpJMIMmKc9"
      },
      "execution_count": null,
      "outputs": []
    },
    {
      "cell_type": "code",
      "source": [
        "calc_hub_depressed_followees(1,2)"
      ],
      "metadata": {
        "colab": {
          "base_uri": "https://localhost:8080/"
        },
        "id": "tBaq0BRVYly5",
        "outputId": "2bd6a262-15ac-4bba-bf19-65462c8d05e5"
      },
      "execution_count": null,
      "outputs": [
        {
          "output_type": "execute_result",
          "data": {
            "text/plain": [
              "0.25"
            ]
          },
          "metadata": {},
          "execution_count": 270
        }
      ]
    },
    {
      "cell_type": "code",
      "source": [
        "calc_hub_depressed_followees(1,5)"
      ],
      "metadata": {
        "colab": {
          "base_uri": "https://localhost:8080/"
        },
        "id": "rYz_ctGpYsIR",
        "outputId": "dca16348-f9fa-4a09-92f0-cb42190af8bd"
      },
      "execution_count": null,
      "outputs": [
        {
          "output_type": "execute_result",
          "data": {
            "text/plain": [
              "0.1111111111111111"
            ]
          },
          "metadata": {},
          "execution_count": 271
        }
      ]
    },
    {
      "cell_type": "code",
      "source": [
        "def calc_hub_depressed_followers(a,b):\n",
        "    try:\n",
        "        if len(set(g.predecessors(a))) == 0  | len(set(g.predecessors(b))) == 0:\n",
        "            return 0\n",
        "        x=(len(set(g.predecessors(a))))\n",
        "        y=(len(set(g.predecessors(b))))\n",
        "        sim = (len(set(g.predecessors(a)).intersection(set(g.predecessors(b)))))/\\\n",
        "                                 max(x,y)\n",
        "        return sim\n",
        "    except:\n",
        "        return 0"
      ],
      "metadata": {
        "id": "jQUwyUS2ifr7"
      },
      "execution_count": null,
      "outputs": []
    },
    {
      "cell_type": "code",
      "source": [
        "calc_hub_depressed_followers(1,5)"
      ],
      "metadata": {
        "colab": {
          "base_uri": "https://localhost:8080/"
        },
        "id": "ov0hNtHTZNzS",
        "outputId": "0d7e0867-1d48-47a6-ae3b-d20a19bbdd5b"
      },
      "execution_count": null,
      "outputs": [
        {
          "output_type": "execute_result",
          "data": {
            "text/plain": [
              "0.04878048780487805"
            ]
          },
          "metadata": {},
          "execution_count": 275
        }
      ]
    },
    {
      "cell_type": "markdown",
      "source": [
        "### 4.6 Leicht-Holme-Newman Index"
      ],
      "metadata": {
        "id": "sP4HWFS1i_vs"
      }
    },
    {
      "cell_type": "code",
      "source": [
        "def cal_lhn_followees(a,b):\n",
        "    try:\n",
        "        if len(set(g.successors(a))) == 0  | len(set(g.successors(b))) == 0:\n",
        "            return 0\n",
        "        sim = (len(set(g.successors(a)).intersection(set(g.successors(b)))))/\\\n",
        "                                    len(set(g.successors(a)))*(len(set(g.successors(b))))\n",
        "        return sim\n",
        "    except:\n",
        "        return 0\n",
        "\n"
      ],
      "metadata": {
        "id": "Su_ZA8Y5jGmt"
      },
      "execution_count": null,
      "outputs": []
    },
    {
      "cell_type": "code",
      "source": [
        "cal_lhn_followees(1,2)"
      ],
      "metadata": {
        "colab": {
          "base_uri": "https://localhost:8080/"
        },
        "id": "hh9uD289ZaFZ",
        "outputId": "bec2ad5c-fa78-4349-f47f-4ab1aa31fbb4"
      },
      "execution_count": null,
      "outputs": [
        {
          "output_type": "execute_result",
          "data": {
            "text/plain": [
              "0.75"
            ]
          },
          "metadata": {},
          "execution_count": 277
        }
      ]
    },
    {
      "cell_type": "code",
      "source": [
        "def cal_lhn_followers(a,b):\n",
        "    try:\n",
        "        if len(set(g.predecessors(a))) == 0  | len(set(g.predecessors(b))) == 0:\n",
        "            return 0\n",
        "        sim = (len(set(g.predecessors(a)).intersection(set(g.predecessors(b)))))/\\\n",
        "                                    len(set(g.predecessors(a)))*len(set(g.predecessors(b)))\n",
        "        return sim\n",
        "    except:\n",
        "        return 0"
      ],
      "metadata": {
        "id": "Qfa3zuQIjKK1"
      },
      "execution_count": null,
      "outputs": []
    },
    {
      "cell_type": "code",
      "source": [
        "cal_lhn_followers(10,13)"
      ],
      "metadata": {
        "colab": {
          "base_uri": "https://localhost:8080/"
        },
        "id": "hWnpBKchZduc",
        "outputId": "80f0a54d-bda2-431d-c1bd-a4e45af460a5"
      },
      "execution_count": null,
      "outputs": [
        {
          "output_type": "execute_result",
          "data": {
            "text/plain": [
              "0"
            ]
          },
          "metadata": {},
          "execution_count": 282
        }
      ]
    },
    {
      "cell_type": "markdown",
      "source": [
        "### 4.7 Page Rank"
      ],
      "metadata": {
        "id": "zJqdgNhPjisR"
      }
    },
    {
      "cell_type": "code",
      "source": [
        "import networkx as nx\n",
        "pr = nx.pagerank(g, alpha=0.85)\n",
        "pickle.dump(pr,open('page_rank.p','wb'))\n",
        "mean_pr=float(sum(pr.values())) / len(pr)\n",
        "print('min',pr[min(pr, key=pr.get)])\n",
        "print('max',pr[max(pr, key=pr.get)])\n",
        "print('mean',float(sum(pr.values())) / len(pr))\n"
      ],
      "metadata": {
        "colab": {
          "base_uri": "https://localhost:8080/"
        },
        "id": "6za_thmsSewv",
        "outputId": "0acc4fee-cde2-440c-c8d3-254660097d2e"
      },
      "execution_count": null,
      "outputs": [
        {
          "output_type": "stream",
          "name": "stdout",
          "text": [
            "min 2.9549326609947087e-05\n",
            "max 0.015855148217942292\n",
            "mean 0.00015264845061823456\n"
          ]
        }
      ]
    },
    {
      "cell_type": "markdown",
      "source": [
        "### 4.8 Katz Index"
      ],
      "metadata": {
        "id": "qRRRKKz5jpLj"
      }
    },
    {
      "cell_type": "code",
      "source": [
        "katz = nx.katz.katz_centrality(g,alpha=0.005,beta=1)\n",
        "pickle.dump(katz,open('katz.p','wb'))\n",
        "mean_katz=0.0007483801279873423\n",
        "print('min',katz[min(katz, key=katz.get)])\n",
        "print('max',katz[max(katz, key=katz.get)])\n",
        "print('mean',float(sum(katz.values())) / len(katz))\n"
      ],
      "metadata": {
        "colab": {
          "base_uri": "https://localhost:8080/"
        },
        "id": "_Nbm2_QiSjM2",
        "outputId": "9e5712f0-7307-4b3d-efe7-96cf03de2e9d"
      },
      "execution_count": null,
      "outputs": [
        {
          "output_type": "stream",
          "name": "stdout",
          "text": [
            "min 0.011732523426531093\n",
            "max 0.059970596778821036\n",
            "mean 0.012277074458391891\n"
          ]
        }
      ]
    },
    {
      "cell_type": "markdown",
      "source": [
        "### 4.9 HITS"
      ],
      "metadata": {
        "id": "3DZonmRrjt1-"
      }
    },
    {
      "cell_type": "code",
      "source": [
        "hits = nx.hits(g, max_iter=100, tol=1e-08, nstart=None, normalized=True)\n",
        "pickle.dump(hits,open('hits.p','wb'))\n",
        "print('min',hits[0][min(hits[0], key=hits[0].get)])\n",
        "print('max',hits[0][max(hits[0], key=hits[0].get)])\n",
        "print('mean',float(sum(hits[0].values())) / len(hits[0]))"
      ],
      "metadata": {
        "colab": {
          "base_uri": "https://localhost:8080/"
        },
        "id": "yiT_22OGSol5",
        "outputId": "c4c88e54-4dec-433f-e46b-d013208e06ac"
      },
      "execution_count": null,
      "outputs": [
        {
          "output_type": "stream",
          "name": "stdout",
          "text": [
            "min -9.410139041942319e-23\n",
            "max 0.00898354653583198\n",
            "mean 0.00015264845061822597\n"
          ]
        }
      ]
    },
    {
      "cell_type": "markdown",
      "source": [
        "### 4.10 Weakly Connected Components"
      ],
      "metadata": {
        "id": "aMqkFJzWj8CM"
      }
    },
    {
      "cell_type": "code",
      "source": [
        "def compute_shortest_path_length(a,b):\n",
        "    p=-1\n",
        "    try:\n",
        "        if train_graph.has_edge(a,b):\n",
        "            train_graph.remove_edge(a,b)\n",
        "            p= nx.shortest_path_length(train_graph,source=a,target=b)\n",
        "            train_graph.add_edge(a,b)\n",
        "        else:\n",
        "            p= nx.shortest_path_length(train_graph,source=a,target=b)\n",
        "        return p\n",
        "    except:\n",
        "        return -1"
      ],
      "metadata": {
        "id": "GedU71JxSxdu"
      },
      "execution_count": null,
      "outputs": []
    },
    {
      "cell_type": "code",
      "source": [
        "wcc=list(nx.weakly_connected_components(g))\n",
        "def belongs_to_same_wcc(a,b):\n",
        "    index = []\n",
        "    if g.has_edge(b,a):\n",
        "        return 1\n",
        "    if g.has_edge(a,b):\n",
        "            for i in wcc:\n",
        "                if a in i:\n",
        "                    index= i\n",
        "                    break\n",
        "            if (b in index):\n",
        "                g.remove_edge(a,b)\n",
        "                if compute_shortest_path_length(a,b)==-1:\n",
        "                    g.add_edge(a,b)\n",
        "                    return 0\n",
        "                else:\n",
        "                    g.add_edge(a,b)\n",
        "                    return 1\n",
        "            else:\n",
        "                return 0\n",
        "    else:\n",
        "            for i in wcc:\n",
        "                if a in i:\n",
        "                    index= i\n",
        "                    break\n",
        "            if(b in index):\n",
        "                return 1\n",
        "            else:\n",
        "                return 0"
      ],
      "metadata": {
        "id": "GiEIW5ngSzpE"
      },
      "execution_count": null,
      "outputs": []
    },
    {
      "cell_type": "markdown",
      "metadata": {
        "id": "PkB5E-ml0JIy"
      },
      "source": [
        "## 5. Train-Test Split"
      ]
    },
    {
      "cell_type": "code",
      "source": [
        "from sklearn.model_selection import train_test_split\n"
      ],
      "metadata": {
        "id": "ayWwXhUKoHsQ"
      },
      "execution_count": null,
      "outputs": []
    },
    {
      "cell_type": "code",
      "execution_count": null,
      "metadata": {
        "colab": {
          "base_uri": "https://localhost:8080/"
        },
        "id": "o2n9P1Oe0I0S",
        "outputId": "81521b9a-6f3d-47cc-fb27-4a62666a2ef0"
      },
      "outputs": [
        {
          "output_type": "stream",
          "name": "stdout",
          "text": [
            "Our train matrix size  (82080, 3)\n",
            "Our test matrix size  (20521, 3)\n"
          ]
        }
      ],
      "source": [
        "df_final_train = pd.read_csv('train.csv', names=['source_node', 'destination_node'])\n",
        "df_final_train['indicator_link'] = pd.read_csv('train_y.csv', names=['indicator_link'])\n",
        "print(\"Our train matrix size \",df_final_train.shape)\n",
        "df_final_train.head(2)\n",
        "y_train = df_final_train['indicator_link']\n",
        "\n",
        "#test \n",
        "df_final_test = pd.read_csv('test.csv', names=['source_node', 'destination_node'])\n",
        "df_final_test['indicator_link'] = pd.read_csv('test_y.csv', names=['indicator_link'])\n",
        "print(\"Our test matrix size \",df_final_test.shape)\n",
        "df_final_test.head(2)\n",
        "y_test=df_final_test['indicator_link']"
      ]
    },
    {
      "cell_type": "code",
      "execution_count": null,
      "metadata": {
        "colab": {
          "base_uri": "https://localhost:8080/"
        },
        "id": "rvHWZY5uz0m5",
        "outputId": "dd9e16b9-a8f7-4c2a-a763-62df77a4f34f"
      },
      "outputs": [
        {
          "output_type": "stream",
          "name": "stdout",
          "text": [
            "(20521, 3)\n",
            "(82080, 3)\n"
          ]
        }
      ],
      "source": [
        "print(df_final_test.shape)\n",
        "print(df_final_train.shape)"
      ]
    },
    {
      "cell_type": "markdown",
      "metadata": {
        "id": "qxjdW7mdyYkh"
      },
      "source": [
        "## 6. Addition of all features\n"
      ]
    },
    {
      "cell_type": "code",
      "execution_count": null,
      "metadata": {
        "id": "0x1S1XoK383g"
      },
      "outputs": [],
      "source": [
        "df_final_train['jaccard_followers'] = df_final_train[0:82080].apply(lambda row:\n",
        "                                            jaccard_for_followers(row['source_node'],row['destination_node']),axis=1)\n",
        "df_final_test['jaccard_followers'] = df_final_test[0:20521].apply(lambda row:\n",
        "                                            jaccard_for_followers(row['source_node'],row['destination_node']),axis=1)\n",
        "\n",
        "df_final_train['jaccard_followees'] = df_final_train[:82080].apply(lambda row:\n",
        "                                            jaccard_for_followees(row['source_node'],row['destination_node']),axis=1)\n",
        "df_final_test['jaccard_followees'] = df_final_test[0:20521].apply(lambda row:\n",
        "                                            jaccard_for_followees(row['source_node'],row['destination_node']),axis=1)\n",
        "    \n",
        "\n",
        "df_final_train['cosine_followers'] = df_final_train[:82080].apply(lambda row:\n",
        "                                            cosine_for_followers(row['source_node'],row['destination_node']),axis=1)\n",
        "df_final_test['cosine_followers'] = df_final_test[0:20521].apply(lambda row:\n",
        "                                            cosine_for_followers(row['source_node'],row['destination_node']),axis=1)\n",
        "\n",
        "                                          \n"
      ]
    },
    {
      "cell_type": "code",
      "execution_count": null,
      "metadata": {
        "id": "E74Hjsptzi-i"
      },
      "outputs": [],
      "source": [
        "df_final_train['hub_promoted_followees'] = df_final_train[:82080].apply(lambda row:\n",
        "                                            calc_hub_promoted_followees(row['source_node'],row['destination_node']),axis=1)\n",
        "df_final_test['hub_promoted_followees'] = df_final_test[0:20521].apply(lambda row:\n",
        "                                            calc_hub_promoted_followees(row['source_node'],row['destination_node']),axis=1)\n",
        "\n",
        "df_final_train['hub_promoted_followers'] = df_final_train[:82080].apply(lambda row:\n",
        "                                            calc_hub_promoted_followers(row['source_node'],row['destination_node']),axis=1)\n",
        "df_final_test['hub_promoted_followers'] = df_final_test[0:20521].apply(lambda row:\n",
        "                                            calc_hub_promoted_followers(row['source_node'],row['destination_node']),axis=1)"
      ]
    },
    {
      "cell_type": "code",
      "source": [
        "df_final_train['hub_depressed_followees'] = df_final_train[:82080].apply(lambda row:\n",
        "                                            calc_hub_depressed_followees(row['source_node'],row['destination_node']),axis=1)\n",
        "df_final_test['hub_depressed_followees'] = df_final_test[0:20521].apply(lambda row:\n",
        "                                            calc_hub_depressed_followees(row['source_node'],row['destination_node']),axis=1)\n",
        "\n",
        "df_final_train['hub_depressed_followers'] = df_final_train[:82080].apply(lambda row:\n",
        "                                            calc_hub_depressed_followers(row['source_node'],row['destination_node']),axis=1)\n",
        "df_final_test['hub_depressed_followers'] = df_final_test[0:20521].apply(lambda row:\n",
        "                                            calc_hub_depressed_followers(row['source_node'],row['destination_node']),axis=1)"
      ],
      "metadata": {
        "id": "llKtUjCenrd-"
      },
      "execution_count": null,
      "outputs": []
    },
    {
      "cell_type": "code",
      "source": [
        "df_final_train['page_rank_s'] = df_final_train.source_node.apply(lambda x:pr.get(x,mean_pr))\n",
        "df_final_train['page_rank_d'] = df_final_train.destination_node.apply(lambda x:pr.get(x,mean_pr))\n",
        "\n",
        "df_final_test['page_rank_s'] = df_final_test.source_node.apply(lambda x:pr.get(x,mean_pr))\n",
        "df_final_test['page_rank_d'] = df_final_test.destination_node.apply(lambda x:pr.get(x,mean_pr))\n",
        "\n",
        "df_final_train['katz_s'] = df_final_train.source_node.apply(lambda x: katz.get(x,mean_katz))\n",
        "df_final_train['katz_d'] = df_final_train.destination_node.apply(lambda x: katz.get(x,mean_katz))\n",
        "\n",
        "df_final_test['katz_s'] = df_final_test.source_node.apply(lambda x: katz.get(x,mean_katz))\n",
        "df_final_test['katz_d'] = df_final_test.destination_node.apply(lambda x: katz.get(x,mean_katz))\n",
        "\n",
        "df_final_train['hubs_s'] = df_final_train.source_node.apply(lambda x: hits[0].get(x,0))\n",
        "df_final_train['hubs_d'] = df_final_train.destination_node.apply(lambda x: hits[0].get(x,0))\n",
        "\n",
        "df_final_test['hubs_s'] = df_final_test.source_node.apply(lambda x: hits[0].get(x,0))\n",
        "df_final_test['hubs_d'] = df_final_test.destination_node.apply(lambda x: hits[0].get(x,0))\n",
        "\n",
        "df_final_train['authorities_s'] = df_final_train.source_node.apply(lambda x: hits[1].get(x,0))\n",
        "df_final_train['authorities_d'] = df_final_train.destination_node.apply(lambda x: hits[1].get(x,0))\n",
        "\n",
        "df_final_test['authorities_s'] = df_final_test.source_node.apply(lambda x: hits[1].get(x,0))\n",
        "df_final_test['authorities_d'] = df_final_test.destination_node.apply(lambda x: hits[1].get(x,0))\n"
      ],
      "metadata": {
        "id": "b9CYVMBvTD6W"
      },
      "execution_count": null,
      "outputs": []
    },
    {
      "cell_type": "code",
      "source": [
        "df_final_train['adar_index'] = df_final_train[:94375].apply(lambda row: calc_adar_in(row['source_node'],row['destination_node']),axis=1)\n",
        "df_final_test['adar_index'] = df_final_test[0:24361].apply(lambda row: calc_adar_in(row['source_node'],row['destination_node']),axis=1)\n"
      ],
      "metadata": {
        "id": "NvecHS-OMmGx"
      },
      "execution_count": null,
      "outputs": []
    },
    {
      "cell_type": "code",
      "source": [
        "df_final_train['lhn_followees'] = df_final_train[:82080].apply(lambda row:\n",
        "                                            cal_lhn_followees(row['source_node'],row['destination_node']),axis=1)\n",
        "df_final_test['lhn_followees'] = df_final_test[0:20521].apply(lambda row:\n",
        "                                            cal_lhn_followees(row['source_node'],row['destination_node']),axis=1)\n",
        "\n",
        "df_final_train['lhn_followers'] = df_final_train[:82080].apply(lambda row:\n",
        "                                            cal_lhn_followers(row['source_node'],row['destination_node']),axis=1)\n",
        "df_final_test['lhn_followers'] = df_final_test[0:20521].apply(lambda row:\n",
        "                                            cal_lhn_followers(row['source_node'],row['destination_node']),axis=1)"
      ],
      "metadata": {
        "id": "y9zwMVKrTAjS"
      },
      "execution_count": null,
      "outputs": []
    },
    {
      "cell_type": "code",
      "source": [
        "df_final_train['same_comp'] = df_final_train.apply(lambda row: belongs_to_same_wcc(row['source_node'],row['destination_node']),axis=1)\n",
        "\n",
        "df_final_test['same_comp'] = df_final_test.apply(lambda row: belongs_to_same_wcc(row['source_node'],row['destination_node']),axis=1)\n"
      ],
      "metadata": {
        "id": "G6TXcQOMTJG6"
      },
      "execution_count": null,
      "outputs": []
    },
    {
      "cell_type": "code",
      "execution_count": null,
      "metadata": {
        "colab": {
          "base_uri": "https://localhost:8080/"
        },
        "id": "V2QcZ2eY4RvS",
        "outputId": "d9f6d2cb-f6da-45a0-beff-ade58274cf2f"
      },
      "outputs": [
        {
          "output_type": "stream",
          "name": "stdout",
          "text": [
            "(82080, 19)\n"
          ]
        }
      ],
      "source": [
        "df_final_train.drop(['source_node', 'destination_node','indicator_link'],axis=1,inplace=True)\n",
        "df_final_test.drop(['source_node', 'destination_node','indicator_link'],axis=1,inplace=True)\n",
        "print(df_final_train.shape)"
      ]
    },
    {
      "cell_type": "code",
      "source": [
        "df_final_train.head(10)"
      ],
      "metadata": {
        "colab": {
          "base_uri": "https://localhost:8080/",
          "height": 426
        },
        "id": "8rMR8ul1Z7TW",
        "outputId": "ad7d83ba-bd0e-4f24-dde7-6e748ae96749"
      },
      "execution_count": null,
      "outputs": [
        {
          "output_type": "execute_result",
          "data": {
            "text/plain": [
              "   jaccard_followers  jaccard_followees  cosine_followers  \\\n",
              "0           0.000000           0.048387          0.000000   \n",
              "1           0.090909           0.040000          0.111803   \n",
              "2           0.006135           0.005038          0.013259   \n",
              "3           0.012987           0.159420          0.005051   \n",
              "4           0.048780           0.074074          0.019608   \n",
              "5           0.001372           0.031915          0.001372   \n",
              "6           0.066667           0.000000          0.094491   \n",
              "7           0.000000           0.008403          0.000000   \n",
              "8           0.025316           0.303030          0.021731   \n",
              "9           0.033333           0.050000          0.016330   \n",
              "\n",
              "   hub_promoted_followees  hub_promoted_followers  hub_depressed_followees  \\\n",
              "0                0.750000                0.000000                 0.049180   \n",
              "1                1.000000                0.500000                 0.040000   \n",
              "2                0.571429                0.166667                 0.005057   \n",
              "3                0.458333                0.125000                 0.196429   \n",
              "4                0.166667                0.222222                 0.117647   \n",
              "5                0.750000                1.000000                 0.032258   \n",
              "6                0.000000                0.500000                 0.000000   \n",
              "7                0.125000                0.000000                 0.008929   \n",
              "8                0.666667                0.181818                 0.357143   \n",
              "9                0.166667                0.166667                 0.066667   \n",
              "\n",
              "   hub_depressed_followers  page_rank_s  page_rank_d    katz_s    katz_d  \\\n",
              "0                 0.000000     0.000030     0.000424  0.011733  0.015895   \n",
              "1                 0.100000     0.000099     0.000319  0.013088  0.012074   \n",
              "2                 0.006329     0.000872     0.000066  0.022290  0.012196   \n",
              "3                 0.014286     0.000111     0.000945  0.012261  0.016389   \n",
              "4                 0.058824     0.000071     0.000198  0.012324  0.014076   \n",
              "5                 0.001372     0.000040     0.008981  0.011793  0.059971   \n",
              "6                 0.071429     0.000248     0.000055  0.013770  0.012021   \n",
              "7                 0.000000     0.000265     0.000067  0.014775  0.012236   \n",
              "8                 0.028571     0.000945     0.000108  0.016389  0.012501   \n",
              "9                 0.040000     0.000077     0.000293  0.012127  0.013460   \n",
              "\n",
              "     hubs_s    hubs_d  authorities_s  authorities_d  adar_index  \\\n",
              "0  0.000048  0.001856       0.000000       0.001563    1.899103   \n",
              "1  0.000479  0.000002       0.000413       0.000129    1.660964   \n",
              "2  0.008984  0.000143       0.002805       0.000209    2.157720   \n",
              "3  0.000651  0.000797       0.000071       0.000734    7.315854   \n",
              "4  0.000157  0.000220       0.000095       0.000681    1.032453   \n",
              "5  0.000269  0.002694       0.000005       0.011421    1.323056   \n",
              "6  0.001171  0.000000       0.000618       0.000101    0.000000   \n",
              "7  0.001474  0.000182       0.001180       0.000114    1.183295   \n",
              "8  0.000797  0.000253       0.000734       0.000301   17.086564   \n",
              "9  0.000070  0.000280       0.000060       0.000423    0.734361   \n",
              "\n",
              "   lhn_followees  lhn_followers  same_comp  \n",
              "0      45.750000       0.000000          0  \n",
              "1       0.040000       0.400000          0  \n",
              "2       0.035398       0.037975          0  \n",
              "3      25.666667       8.750000          0  \n",
              "4       1.411765       7.555556          0  \n",
              "5      69.750000     729.000000          0  \n",
              "6       0.000000       0.285714          0  \n",
              "7       0.071429       0.000000          0  \n",
              "8      10.714286       0.314286          1  \n",
              "9       2.500000       4.166667          0  "
            ],
            "text/html": [
              "\n",
              "  <div id=\"df-05109bad-344b-4dc8-bac5-f811fdcee5f0\">\n",
              "    <div class=\"colab-df-container\">\n",
              "      <div>\n",
              "<style scoped>\n",
              "    .dataframe tbody tr th:only-of-type {\n",
              "        vertical-align: middle;\n",
              "    }\n",
              "\n",
              "    .dataframe tbody tr th {\n",
              "        vertical-align: top;\n",
              "    }\n",
              "\n",
              "    .dataframe thead th {\n",
              "        text-align: right;\n",
              "    }\n",
              "</style>\n",
              "<table border=\"1\" class=\"dataframe\">\n",
              "  <thead>\n",
              "    <tr style=\"text-align: right;\">\n",
              "      <th></th>\n",
              "      <th>jaccard_followers</th>\n",
              "      <th>jaccard_followees</th>\n",
              "      <th>cosine_followers</th>\n",
              "      <th>hub_promoted_followees</th>\n",
              "      <th>hub_promoted_followers</th>\n",
              "      <th>hub_depressed_followees</th>\n",
              "      <th>hub_depressed_followers</th>\n",
              "      <th>page_rank_s</th>\n",
              "      <th>page_rank_d</th>\n",
              "      <th>katz_s</th>\n",
              "      <th>katz_d</th>\n",
              "      <th>hubs_s</th>\n",
              "      <th>hubs_d</th>\n",
              "      <th>authorities_s</th>\n",
              "      <th>authorities_d</th>\n",
              "      <th>adar_index</th>\n",
              "      <th>lhn_followees</th>\n",
              "      <th>lhn_followers</th>\n",
              "      <th>same_comp</th>\n",
              "    </tr>\n",
              "  </thead>\n",
              "  <tbody>\n",
              "    <tr>\n",
              "      <th>0</th>\n",
              "      <td>0.000000</td>\n",
              "      <td>0.048387</td>\n",
              "      <td>0.000000</td>\n",
              "      <td>0.750000</td>\n",
              "      <td>0.000000</td>\n",
              "      <td>0.049180</td>\n",
              "      <td>0.000000</td>\n",
              "      <td>0.000030</td>\n",
              "      <td>0.000424</td>\n",
              "      <td>0.011733</td>\n",
              "      <td>0.015895</td>\n",
              "      <td>0.000048</td>\n",
              "      <td>0.001856</td>\n",
              "      <td>0.000000</td>\n",
              "      <td>0.001563</td>\n",
              "      <td>1.899103</td>\n",
              "      <td>45.750000</td>\n",
              "      <td>0.000000</td>\n",
              "      <td>0</td>\n",
              "    </tr>\n",
              "    <tr>\n",
              "      <th>1</th>\n",
              "      <td>0.090909</td>\n",
              "      <td>0.040000</td>\n",
              "      <td>0.111803</td>\n",
              "      <td>1.000000</td>\n",
              "      <td>0.500000</td>\n",
              "      <td>0.040000</td>\n",
              "      <td>0.100000</td>\n",
              "      <td>0.000099</td>\n",
              "      <td>0.000319</td>\n",
              "      <td>0.013088</td>\n",
              "      <td>0.012074</td>\n",
              "      <td>0.000479</td>\n",
              "      <td>0.000002</td>\n",
              "      <td>0.000413</td>\n",
              "      <td>0.000129</td>\n",
              "      <td>1.660964</td>\n",
              "      <td>0.040000</td>\n",
              "      <td>0.400000</td>\n",
              "      <td>0</td>\n",
              "    </tr>\n",
              "    <tr>\n",
              "      <th>2</th>\n",
              "      <td>0.006135</td>\n",
              "      <td>0.005038</td>\n",
              "      <td>0.013259</td>\n",
              "      <td>0.571429</td>\n",
              "      <td>0.166667</td>\n",
              "      <td>0.005057</td>\n",
              "      <td>0.006329</td>\n",
              "      <td>0.000872</td>\n",
              "      <td>0.000066</td>\n",
              "      <td>0.022290</td>\n",
              "      <td>0.012196</td>\n",
              "      <td>0.008984</td>\n",
              "      <td>0.000143</td>\n",
              "      <td>0.002805</td>\n",
              "      <td>0.000209</td>\n",
              "      <td>2.157720</td>\n",
              "      <td>0.035398</td>\n",
              "      <td>0.037975</td>\n",
              "      <td>0</td>\n",
              "    </tr>\n",
              "    <tr>\n",
              "      <th>3</th>\n",
              "      <td>0.012987</td>\n",
              "      <td>0.159420</td>\n",
              "      <td>0.005051</td>\n",
              "      <td>0.458333</td>\n",
              "      <td>0.125000</td>\n",
              "      <td>0.196429</td>\n",
              "      <td>0.014286</td>\n",
              "      <td>0.000111</td>\n",
              "      <td>0.000945</td>\n",
              "      <td>0.012261</td>\n",
              "      <td>0.016389</td>\n",
              "      <td>0.000651</td>\n",
              "      <td>0.000797</td>\n",
              "      <td>0.000071</td>\n",
              "      <td>0.000734</td>\n",
              "      <td>7.315854</td>\n",
              "      <td>25.666667</td>\n",
              "      <td>8.750000</td>\n",
              "      <td>0</td>\n",
              "    </tr>\n",
              "    <tr>\n",
              "      <th>4</th>\n",
              "      <td>0.048780</td>\n",
              "      <td>0.074074</td>\n",
              "      <td>0.019608</td>\n",
              "      <td>0.166667</td>\n",
              "      <td>0.222222</td>\n",
              "      <td>0.117647</td>\n",
              "      <td>0.058824</td>\n",
              "      <td>0.000071</td>\n",
              "      <td>0.000198</td>\n",
              "      <td>0.012324</td>\n",
              "      <td>0.014076</td>\n",
              "      <td>0.000157</td>\n",
              "      <td>0.000220</td>\n",
              "      <td>0.000095</td>\n",
              "      <td>0.000681</td>\n",
              "      <td>1.032453</td>\n",
              "      <td>1.411765</td>\n",
              "      <td>7.555556</td>\n",
              "      <td>0</td>\n",
              "    </tr>\n",
              "    <tr>\n",
              "      <th>5</th>\n",
              "      <td>0.001372</td>\n",
              "      <td>0.031915</td>\n",
              "      <td>0.001372</td>\n",
              "      <td>0.750000</td>\n",
              "      <td>1.000000</td>\n",
              "      <td>0.032258</td>\n",
              "      <td>0.001372</td>\n",
              "      <td>0.000040</td>\n",
              "      <td>0.008981</td>\n",
              "      <td>0.011793</td>\n",
              "      <td>0.059971</td>\n",
              "      <td>0.000269</td>\n",
              "      <td>0.002694</td>\n",
              "      <td>0.000005</td>\n",
              "      <td>0.011421</td>\n",
              "      <td>1.323056</td>\n",
              "      <td>69.750000</td>\n",
              "      <td>729.000000</td>\n",
              "      <td>0</td>\n",
              "    </tr>\n",
              "    <tr>\n",
              "      <th>6</th>\n",
              "      <td>0.066667</td>\n",
              "      <td>0.000000</td>\n",
              "      <td>0.094491</td>\n",
              "      <td>0.000000</td>\n",
              "      <td>0.500000</td>\n",
              "      <td>0.000000</td>\n",
              "      <td>0.071429</td>\n",
              "      <td>0.000248</td>\n",
              "      <td>0.000055</td>\n",
              "      <td>0.013770</td>\n",
              "      <td>0.012021</td>\n",
              "      <td>0.001171</td>\n",
              "      <td>0.000000</td>\n",
              "      <td>0.000618</td>\n",
              "      <td>0.000101</td>\n",
              "      <td>0.000000</td>\n",
              "      <td>0.000000</td>\n",
              "      <td>0.285714</td>\n",
              "      <td>0</td>\n",
              "    </tr>\n",
              "    <tr>\n",
              "      <th>7</th>\n",
              "      <td>0.000000</td>\n",
              "      <td>0.008403</td>\n",
              "      <td>0.000000</td>\n",
              "      <td>0.125000</td>\n",
              "      <td>0.000000</td>\n",
              "      <td>0.008929</td>\n",
              "      <td>0.000000</td>\n",
              "      <td>0.000265</td>\n",
              "      <td>0.000067</td>\n",
              "      <td>0.014775</td>\n",
              "      <td>0.012236</td>\n",
              "      <td>0.001474</td>\n",
              "      <td>0.000182</td>\n",
              "      <td>0.001180</td>\n",
              "      <td>0.000114</td>\n",
              "      <td>1.183295</td>\n",
              "      <td>0.071429</td>\n",
              "      <td>0.000000</td>\n",
              "      <td>0</td>\n",
              "    </tr>\n",
              "    <tr>\n",
              "      <th>8</th>\n",
              "      <td>0.025316</td>\n",
              "      <td>0.303030</td>\n",
              "      <td>0.021731</td>\n",
              "      <td>0.666667</td>\n",
              "      <td>0.181818</td>\n",
              "      <td>0.357143</td>\n",
              "      <td>0.028571</td>\n",
              "      <td>0.000945</td>\n",
              "      <td>0.000108</td>\n",
              "      <td>0.016389</td>\n",
              "      <td>0.012501</td>\n",
              "      <td>0.000797</td>\n",
              "      <td>0.000253</td>\n",
              "      <td>0.000734</td>\n",
              "      <td>0.000301</td>\n",
              "      <td>17.086564</td>\n",
              "      <td>10.714286</td>\n",
              "      <td>0.314286</td>\n",
              "      <td>1</td>\n",
              "    </tr>\n",
              "    <tr>\n",
              "      <th>9</th>\n",
              "      <td>0.033333</td>\n",
              "      <td>0.050000</td>\n",
              "      <td>0.016330</td>\n",
              "      <td>0.166667</td>\n",
              "      <td>0.166667</td>\n",
              "      <td>0.066667</td>\n",
              "      <td>0.040000</td>\n",
              "      <td>0.000077</td>\n",
              "      <td>0.000293</td>\n",
              "      <td>0.012127</td>\n",
              "      <td>0.013460</td>\n",
              "      <td>0.000070</td>\n",
              "      <td>0.000280</td>\n",
              "      <td>0.000060</td>\n",
              "      <td>0.000423</td>\n",
              "      <td>0.734361</td>\n",
              "      <td>2.500000</td>\n",
              "      <td>4.166667</td>\n",
              "      <td>0</td>\n",
              "    </tr>\n",
              "  </tbody>\n",
              "</table>\n",
              "</div>\n",
              "      <button class=\"colab-df-convert\" onclick=\"convertToInteractive('df-05109bad-344b-4dc8-bac5-f811fdcee5f0')\"\n",
              "              title=\"Convert this dataframe to an interactive table.\"\n",
              "              style=\"display:none;\">\n",
              "        \n",
              "  <svg xmlns=\"http://www.w3.org/2000/svg\" height=\"24px\"viewBox=\"0 0 24 24\"\n",
              "       width=\"24px\">\n",
              "    <path d=\"M0 0h24v24H0V0z\" fill=\"none\"/>\n",
              "    <path d=\"M18.56 5.44l.94 2.06.94-2.06 2.06-.94-2.06-.94-.94-2.06-.94 2.06-2.06.94zm-11 1L8.5 8.5l.94-2.06 2.06-.94-2.06-.94L8.5 2.5l-.94 2.06-2.06.94zm10 10l.94 2.06.94-2.06 2.06-.94-2.06-.94-.94-2.06-.94 2.06-2.06.94z\"/><path d=\"M17.41 7.96l-1.37-1.37c-.4-.4-.92-.59-1.43-.59-.52 0-1.04.2-1.43.59L10.3 9.45l-7.72 7.72c-.78.78-.78 2.05 0 2.83L4 21.41c.39.39.9.59 1.41.59.51 0 1.02-.2 1.41-.59l7.78-7.78 2.81-2.81c.8-.78.8-2.07 0-2.86zM5.41 20L4 18.59l7.72-7.72 1.47 1.35L5.41 20z\"/>\n",
              "  </svg>\n",
              "      </button>\n",
              "      \n",
              "  <style>\n",
              "    .colab-df-container {\n",
              "      display:flex;\n",
              "      flex-wrap:wrap;\n",
              "      gap: 12px;\n",
              "    }\n",
              "\n",
              "    .colab-df-convert {\n",
              "      background-color: #E8F0FE;\n",
              "      border: none;\n",
              "      border-radius: 50%;\n",
              "      cursor: pointer;\n",
              "      display: none;\n",
              "      fill: #1967D2;\n",
              "      height: 32px;\n",
              "      padding: 0 0 0 0;\n",
              "      width: 32px;\n",
              "    }\n",
              "\n",
              "    .colab-df-convert:hover {\n",
              "      background-color: #E2EBFA;\n",
              "      box-shadow: 0px 1px 2px rgba(60, 64, 67, 0.3), 0px 1px 3px 1px rgba(60, 64, 67, 0.15);\n",
              "      fill: #174EA6;\n",
              "    }\n",
              "\n",
              "    [theme=dark] .colab-df-convert {\n",
              "      background-color: #3B4455;\n",
              "      fill: #D2E3FC;\n",
              "    }\n",
              "\n",
              "    [theme=dark] .colab-df-convert:hover {\n",
              "      background-color: #434B5C;\n",
              "      box-shadow: 0px 1px 3px 1px rgba(0, 0, 0, 0.15);\n",
              "      filter: drop-shadow(0px 1px 2px rgba(0, 0, 0, 0.3));\n",
              "      fill: #FFFFFF;\n",
              "    }\n",
              "  </style>\n",
              "\n",
              "      <script>\n",
              "        const buttonEl =\n",
              "          document.querySelector('#df-05109bad-344b-4dc8-bac5-f811fdcee5f0 button.colab-df-convert');\n",
              "        buttonEl.style.display =\n",
              "          google.colab.kernel.accessAllowed ? 'block' : 'none';\n",
              "\n",
              "        async function convertToInteractive(key) {\n",
              "          const element = document.querySelector('#df-05109bad-344b-4dc8-bac5-f811fdcee5f0');\n",
              "          const dataTable =\n",
              "            await google.colab.kernel.invokeFunction('convertToInteractive',\n",
              "                                                     [key], {});\n",
              "          if (!dataTable) return;\n",
              "\n",
              "          const docLinkHtml = 'Like what you see? Visit the ' +\n",
              "            '<a target=\"_blank\" href=https://colab.research.google.com/notebooks/data_table.ipynb>data table notebook</a>'\n",
              "            + ' to learn more about interactive tables.';\n",
              "          element.innerHTML = '';\n",
              "          dataTable['output_type'] = 'display_data';\n",
              "          await google.colab.output.renderOutput(dataTable, element);\n",
              "          const docLink = document.createElement('div');\n",
              "          docLink.innerHTML = docLinkHtml;\n",
              "          element.appendChild(docLink);\n",
              "        }\n",
              "      </script>\n",
              "    </div>\n",
              "  </div>\n",
              "  "
            ]
          },
          "metadata": {},
          "execution_count": 309
        }
      ]
    },
    {
      "cell_type": "code",
      "source": [
        "x_train,x_test,y_train,y_test=train_test_split(df_final_train,y_train,random_state=42)"
      ],
      "metadata": {
        "id": "Gxrq6nNGMdZE"
      },
      "execution_count": null,
      "outputs": []
    },
    {
      "cell_type": "markdown",
      "metadata": {
        "id": "PnrJyiVo4enA"
      },
      "source": [
        "## 7. Training Model"
      ]
    },
    {
      "cell_type": "markdown",
      "source": [
        "### 7.1 Support Vector Machine"
      ],
      "metadata": {
        "id": "3HJA6-1EUdDQ"
      }
    },
    {
      "cell_type": "code",
      "source": [
        "from sklearn import svm\n",
        "clf = svm.SVC(kernel='linear', C=1).fit(x_train, y_train)"
      ],
      "metadata": {
        "id": "HiAuILQun1Bn"
      },
      "execution_count": null,
      "outputs": []
    },
    {
      "cell_type": "markdown",
      "source": [
        "### Result"
      ],
      "metadata": {
        "id": "8hpK_G4JnSlY"
      }
    },
    {
      "cell_type": "code",
      "source": [
        "classifier_predications= clf.predict(x_test)\n",
        "print(accuracy_score(y_test,classifier_predications))"
      ],
      "metadata": {
        "colab": {
          "base_uri": "https://localhost:8080/"
        },
        "id": "cgNL5gNQoiGd",
        "outputId": "7c70066c-f39c-4747-b959-b9e1848f8503"
      },
      "execution_count": null,
      "outputs": [
        {
          "output_type": "stream",
          "name": "stdout",
          "text": [
            "0.8358918128654971\n"
          ]
        }
      ]
    },
    {
      "cell_type": "code",
      "source": [
        "acc_svm=accuracy_score(y_test,classifier_predications)"
      ],
      "metadata": {
        "id": "X5_fyM22SMPq"
      },
      "execution_count": null,
      "outputs": []
    },
    {
      "cell_type": "markdown",
      "source": [
        "### 7.2 Logistic Regression"
      ],
      "metadata": {
        "id": "7AEApm2_qQRH"
      }
    },
    {
      "cell_type": "code",
      "source": [
        "from sklearn.preprocessing import StandardScaler\n",
        "sc_x = StandardScaler()\n",
        "x_train = sc_x.fit_transform(x_train)\n",
        "x_test = sc_x.transform(x_test)"
      ],
      "metadata": {
        "id": "-z8HM6N4tPDf"
      },
      "execution_count": null,
      "outputs": []
    },
    {
      "cell_type": "code",
      "source": [
        "from sklearn.linear_model import LogisticRegression\n",
        "classifier = LogisticRegression(random_state = 0)\n",
        "classifier.fit(x_train, y_train)"
      ],
      "metadata": {
        "colab": {
          "base_uri": "https://localhost:8080/"
        },
        "id": "GPQNPls5Vf14",
        "outputId": "db33217a-176b-414f-8e2e-ef5e51e22d87"
      },
      "execution_count": null,
      "outputs": [
        {
          "output_type": "execute_result",
          "data": {
            "text/plain": [
              "LogisticRegression(random_state=0)"
            ]
          },
          "metadata": {},
          "execution_count": 208
        }
      ]
    },
    {
      "cell_type": "code",
      "source": [
        "y_pred = classifier.predict(x_test)"
      ],
      "metadata": {
        "id": "HxFdD38xtbS0"
      },
      "execution_count": null,
      "outputs": []
    },
    {
      "cell_type": "code",
      "source": [
        "from sklearn.metrics import accuracy_score\n",
        "print (\"Accuracy : \", accuracy_score(y_test, y_pred))\n"
      ],
      "metadata": {
        "colab": {
          "base_uri": "https://localhost:8080/"
        },
        "id": "tSTV_yYYtfpt",
        "outputId": "7f8a1243-03bd-473d-ee83-6654436adad2"
      },
      "execution_count": null,
      "outputs": [
        {
          "output_type": "stream",
          "name": "stdout",
          "text": [
            "Accuracy :  0.8357090643274854\n"
          ]
        }
      ]
    },
    {
      "cell_type": "code",
      "source": [
        "acc_log=accuracy_score(y_test, y_pred)"
      ],
      "metadata": {
        "id": "2O8B7Xj2WA11"
      },
      "execution_count": null,
      "outputs": []
    },
    {
      "cell_type": "markdown",
      "source": [
        "### 7.3 KNN"
      ],
      "metadata": {
        "id": "0JdYStF5MIF6"
      }
    },
    {
      "cell_type": "code",
      "source": [
        "from sklearn.neighbors import KNeighborsClassifier\n",
        "knn = KNeighborsClassifier(n_neighbors=10)\n",
        "knn.fit(x_train, y_train)\n",
        " \n",
        "print(knn.predict(x_test))\n",
        "acc_knn=knn.predict(x_test)"
      ],
      "metadata": {
        "colab": {
          "base_uri": "https://localhost:8080/"
        },
        "id": "NxobUhCmMK9b",
        "outputId": "0dad00d4-77d4-4090-9634-9c5159a3b1c3"
      },
      "execution_count": null,
      "outputs": [
        {
          "output_type": "stream",
          "name": "stdout",
          "text": [
            "[1 1 0 ... 1 1 1]\n"
          ]
        }
      ]
    },
    {
      "cell_type": "code",
      "source": [
        "print(knn.score(x_test, y_test))"
      ],
      "metadata": {
        "colab": {
          "base_uri": "https://localhost:8080/"
        },
        "id": "SpHwT-BjNF6i",
        "outputId": "ecb42267-c713-484d-a766-b1a3442aad1b"
      },
      "execution_count": null,
      "outputs": [
        {
          "output_type": "stream",
          "name": "stdout",
          "text": [
            "0.9210526315789473\n"
          ]
        }
      ]
    },
    {
      "cell_type": "code",
      "source": [
        "acc_knn=knn.score(x_test, y_test)"
      ],
      "metadata": {
        "id": "ufr9yD44TGHc"
      },
      "execution_count": null,
      "outputs": []
    },
    {
      "cell_type": "markdown",
      "source": [
        "### 7.4 Light GBM"
      ],
      "metadata": {
        "id": "DS0r-kx4Uz8y"
      }
    },
    {
      "cell_type": "code",
      "source": [
        "import lightgbm as lgb\n",
        "from sklearn import metrics"
      ],
      "metadata": {
        "id": "jMawmY2tU0TN"
      },
      "execution_count": null,
      "outputs": []
    },
    {
      "cell_type": "code",
      "source": [
        "model = lgb.LGBMClassifier(learning_rate=0.09,max_depth=-5,random_state=42)\n",
        "model.fit(x_train,y_train,eval_set=[(x_test,y_test),(x_train,y_train)],\n",
        "          verbose=20,eval_metric='logloss')"
      ],
      "metadata": {
        "colab": {
          "base_uri": "https://localhost:8080/"
        },
        "id": "5pTxoNmKU9Nm",
        "outputId": "c3096335-8d55-436b-9a0d-bee4f6a62ac8"
      },
      "execution_count": null,
      "outputs": [
        {
          "output_type": "stream",
          "name": "stdout",
          "text": [
            "[20]\ttraining's binary_logloss: 0.203188\ttraining's binary_logloss: 0.203188\tvalid_0's binary_logloss: 0.20292\tvalid_0's binary_logloss: 0.20292\n",
            "[40]\ttraining's binary_logloss: 0.135719\ttraining's binary_logloss: 0.135719\tvalid_0's binary_logloss: 0.13731\tvalid_0's binary_logloss: 0.13731\n",
            "[60]\ttraining's binary_logloss: 0.11932\ttraining's binary_logloss: 0.11932\tvalid_0's binary_logloss: 0.122754\tvalid_0's binary_logloss: 0.122754\n",
            "[80]\ttraining's binary_logloss: 0.110674\ttraining's binary_logloss: 0.110674\tvalid_0's binary_logloss: 0.117156\tvalid_0's binary_logloss: 0.117156\n",
            "[100]\ttraining's binary_logloss: 0.104511\ttraining's binary_logloss: 0.104511\tvalid_0's binary_logloss: 0.114218\tvalid_0's binary_logloss: 0.114218\n"
          ]
        },
        {
          "output_type": "execute_result",
          "data": {
            "text/plain": [
              "LGBMClassifier(learning_rate=0.09, max_depth=-5, random_state=42)"
            ]
          },
          "metadata": {},
          "execution_count": 215
        }
      ]
    },
    {
      "cell_type": "code",
      "source": [
        "print('Training accuracy {:.4f}'.format(model.score(x_train,y_train)))\n",
        "print('Testing accuracy {:.4f}'.format(model.score(x_test,y_test)))\n"
      ],
      "metadata": {
        "colab": {
          "base_uri": "https://localhost:8080/"
        },
        "id": "dV4xcEWzVAm4",
        "outputId": "0ed9a19d-07c7-4536-ba58-6c33fca0f0da"
      },
      "execution_count": null,
      "outputs": [
        {
          "output_type": "stream",
          "name": "stdout",
          "text": [
            "Training accuracy 0.9564\n",
            "Testing accuracy 0.9507\n"
          ]
        }
      ]
    },
    {
      "cell_type": "code",
      "source": [
        "acc_lgbm=model.score(x_test,y_test)"
      ],
      "metadata": {
        "id": "WFqJcpHbV6H5"
      },
      "execution_count": null,
      "outputs": []
    },
    {
      "cell_type": "markdown",
      "metadata": {
        "id": "o1_1YMzy0YLw"
      },
      "source": [
        "### 7.5 Random Forest Classifier"
      ]
    },
    {
      "cell_type": "code",
      "execution_count": null,
      "metadata": {
        "id": "lC657n650ZYF"
      },
      "outputs": [],
      "source": [
        "from sklearn.ensemble import RandomForestClassifier\n",
        "from sklearn.model_selection import RandomizedSearchCV\n",
        "\n",
        "\n",
        "from scipy.stats import randint\n",
        "\n",
        "param_dist = {\"n_estimators\":randint(105,125),\n",
        "              \"max_depth\": randint(10,15),\n",
        "              \"min_samples_split\": randint(110,190),\n",
        "              \"min_samples_leaf\": randint(25,65)}\n",
        "\n",
        "clf = RandomForestClassifier(random_state=25,n_jobs=-1)\n",
        "\n",
        "rf_random = RandomizedSearchCV(clf, param_distributions=param_dist,\n",
        "                                   n_iter=5,cv=10,scoring='f1',random_state=25)\n",
        "\n",
        "rf_random.fit(x_train,y_train)"
      ]
    },
    {
      "cell_type": "code",
      "execution_count": null,
      "metadata": {
        "colab": {
          "base_uri": "https://localhost:8080/"
        },
        "id": "3NkGn6jX1uzW",
        "outputId": "5ae1c00b-7336-4b4d-f5e4-9625be71a78c"
      },
      "outputs": [
        {
          "output_type": "stream",
          "name": "stdout",
          "text": [
            "RandomForestClassifier(max_depth=14, min_samples_leaf=28, min_samples_split=111,\n",
            "                       n_estimators=121, n_jobs=-1, random_state=25)\n"
          ]
        }
      ],
      "source": [
        "print(rf_random.best_estimator_)\n"
      ]
    },
    {
      "cell_type": "code",
      "execution_count": null,
      "metadata": {
        "id": "OLh9H08d11te"
      },
      "outputs": [],
      "source": [
        "clf=RandomForestClassifier(max_depth=14, min_samples_leaf=28, min_samples_split=111,\n",
        "                       n_estimators=121, n_jobs=-1, random_state=25)"
      ]
    },
    {
      "cell_type": "code",
      "source": [
        "clf.fit(x_train,y_train)\n",
        "y_train_pred = clf.predict(x_train)\n",
        "y_test_pred = clf.predict(x_test)"
      ],
      "metadata": {
        "id": "8Wa8KAEkOn6G"
      },
      "execution_count": null,
      "outputs": []
    },
    {
      "cell_type": "code",
      "source": [
        "from sklearn.metrics import accuracy_score\n",
        "\n",
        "print('Train acc score',accuracy_score(y_train,y_train_pred))\n",
        "print('Test acc score',accuracy_score(y_test,y_test_pred))\n"
      ],
      "metadata": {
        "colab": {
          "base_uri": "https://localhost:8080/"
        },
        "id": "MQdw9PqgPStd",
        "outputId": "3647fb88-985f-4ff4-8f6a-18042c4cfb33"
      },
      "execution_count": null,
      "outputs": [
        {
          "output_type": "stream",
          "name": "stdout",
          "text": [
            "Train acc score 0.9436373050682261\n",
            "Test acc score 0.938291910331384\n"
          ]
        }
      ]
    },
    {
      "cell_type": "code",
      "source": [
        "acc_rf=accuracy_score(y_test,y_test_pred)"
      ],
      "metadata": {
        "id": "pFOUBXW5Wmfa"
      },
      "execution_count": null,
      "outputs": []
    },
    {
      "cell_type": "code",
      "source": [
        "from sklearn.metrics import confusion_matrix\n",
        "import seaborn as sns\n",
        "def plot_confusion_matrix(test_y, predict_y):\n",
        "    C = confusion_matrix(test_y, predict_y)\n",
        "    \n",
        "    A =(((C.T)/(C.sum(axis=1))).T)\n",
        "    \n",
        "    B =(C/C.sum(axis=0))\n",
        "    plt.figure(figsize=(20,4))\n",
        "    \n",
        "    labels = [0,1]\n",
        "    cmap=sns.light_palette(\"green\")\n",
        "    plt.subplot(1, 3, 1)\n",
        "    sns.heatmap(C, annot=True, cmap=cmap, fmt=\".3f\", xticklabels=labels, yticklabels=labels)\n",
        "    plt.xlabel('Predicted Class')\n",
        "    plt.ylabel('Original Class')\n",
        "    plt.title(\"Confusion matrix\")\n",
        "    \n",
        "    plt.subplot(1, 3, 2)\n",
        "    sns.heatmap(B, annot=True, cmap=cmap, fmt=\".3f\", xticklabels=labels, yticklabels=labels)\n",
        "    plt.xlabel('Predicted Class')\n",
        "    plt.ylabel('Original Class')\n",
        "    plt.title(\"Precision matrix\")\n",
        "    \n",
        "    plt.subplot(1, 3, 3)\n",
        "    sns.heatmap(A, annot=True, cmap=cmap, fmt=\".3f\", xticklabels=labels, yticklabels=labels)\n",
        "    plt.xlabel('Predicted Class')\n",
        "    plt.ylabel('Original Class')\n",
        "    plt.title(\"Recall matrix\")\n",
        "    \n",
        "    plt.show()\n",
        "print('Train confusion_matrix')\n",
        "plot_confusion_matrix(y_train,y_train_pred)\n",
        "print('Test confusion_matrix')\n",
        "plot_confusion_matrix(y_test,y_test_pred)"
      ],
      "metadata": {
        "id": "vqmXmlF-Wm2-",
        "colab": {
          "base_uri": "https://localhost:8080/",
          "height": 610
        },
        "outputId": "85a9cb0a-1fe0-4892-9e7e-2228d9c769cd"
      },
      "execution_count": null,
      "outputs": [
        {
          "output_type": "stream",
          "name": "stdout",
          "text": [
            "Train confusion_matrix\n"
          ]
        },
        {
          "output_type": "display_data",
          "data": {
            "text/plain": [
              "<Figure size 1440x288 with 6 Axes>"
            ],
            "image/png": "[encoded data removed]"
          },
          "metadata": {
            "needs_background": "light"
          }
        },
        {
          "output_type": "stream",
          "name": "stdout",
          "text": [
            "Test confusion_matrix\n"
          ]
        },
        {
          "output_type": "display_data",
          "data": {
            "text/plain": [
              "<Figure size 1440x288 with 6 Axes>"
            ],
            "image/png": "[encoded data removed]"
          },
          "metadata": {
            "needs_background": "light"
          }
        }
      ]
    },
    {
      "cell_type": "markdown",
      "source": [
        "## 8. Analysis"
      ],
      "metadata": {
        "id": "qungfMF-Wn2T"
      }
    },
    {
      "cell_type": "code",
      "source": [
        "data = [['Logistic', acc_log], ['KNN', acc_knn], ['SVM' , acc_svm], ['Random Forest', acc_rf], ['Light GBM', acc_lgbm]]\n",
        "res_frame = pd.DataFrame(data, columns=['Algorithm Used', 'Average accuracy'])\n",
        "res_frame\n",
        "import seaborn as sns\n",
        "plt.subplots(figsize=(7,4))\n",
        "sns.barplot(x=\"Algorithm Used\", y=\"Average accuracy\", data = res_frame, palette='cool', edgecolor=sns.color_palette('dark',7))\n",
        "plt.title('Machine Learning Algorithms accuracy Comparision')\n",
        "plt.show()"
      ],
      "metadata": {
        "colab": {
          "base_uri": "https://localhost:8080/",
          "height": 295
        },
        "id": "z7aber3DSeRL",
        "outputId": "da11b9a9-5e14-479e-886e-796a9e1a1580"
      },
      "execution_count": null,
      "outputs": [
        {
          "output_type": "display_data",
          "data": {
            "text/plain": [
              "<Figure size 504x288 with 1 Axes>"
            ],
            "image/png": "[encoded data removed]"
          },
          "metadata": {
            "needs_background": "light"
          }
        }
      ]
    }
  ],
  "metadata": {
    "colab": {
      "collapsed_sections": [],
      "name": "Trust Prediction in OSN.ipynb",
      "provenance": []
    },
    "kernelspec": {
      "display_name": "Python 3",
      "name": "python3"
    },
    "language_info": {
      "name": "python"
    }
  },
  "nbformat": 4,
  "nbformat_minor": 0
}